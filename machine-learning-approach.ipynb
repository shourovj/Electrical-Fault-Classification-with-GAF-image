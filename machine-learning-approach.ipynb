{
 "cells": [
  {
   "cell_type": "code",
   "execution_count": 1,
   "id": "383237da",
   "metadata": {
    "_cell_guid": "b1076dfc-b9ad-4769-8c92-a6c4dae69d19",
    "_uuid": "8f2839f25d086af736a60e9eeb907d3b93b6e0e5",
    "execution": {
     "iopub.execute_input": "2023-11-21T19:32:08.745924Z",
     "iopub.status.busy": "2023-11-21T19:32:08.745508Z",
     "iopub.status.idle": "2023-11-21T19:32:09.871482Z",
     "shell.execute_reply": "2023-11-21T19:32:09.869889Z"
    },
    "papermill": {
     "duration": 1.142482,
     "end_time": "2023-11-21T19:32:09.874220",
     "exception": false,
     "start_time": "2023-11-21T19:32:08.731738",
     "status": "completed"
    },
    "tags": []
   },
   "outputs": [],
   "source": [
    "import pandas as pd\n",
    "import numpy as np\n",
    "import seaborn as sea\n",
    "import matplotlib.pyplot as plt\n",
    "import warnings \n",
    "warnings.filterwarnings('ignore')"
   ]
  },
  {
   "cell_type": "code",
   "execution_count": 2,
   "id": "8a39315e",
   "metadata": {
    "execution": {
     "iopub.execute_input": "2023-11-21T19:32:09.898396Z",
     "iopub.status.busy": "2023-11-21T19:32:09.898007Z",
     "iopub.status.idle": "2023-11-21T19:32:09.978045Z",
     "shell.execute_reply": "2023-11-21T19:32:09.976789Z"
    },
    "papermill": {
     "duration": 0.094964,
     "end_time": "2023-11-21T19:32:09.980725",
     "exception": false,
     "start_time": "2023-11-21T19:32:09.885761",
     "status": "completed"
    },
    "tags": []
   },
   "outputs": [],
   "source": [
    "class_df = pd.read_csv('/kaggle/input/electrical-fault-detection-and-classification/classData.csv')\n",
    "detect_df = pd.read_csv('/kaggle/input/electrical-fault-detection-and-classification/detect_dataset.csv')"
   ]
  },
  {
   "cell_type": "code",
   "execution_count": 3,
   "id": "d8f966e3",
   "metadata": {
    "execution": {
     "iopub.execute_input": "2023-11-21T19:32:10.007709Z",
     "iopub.status.busy": "2023-11-21T19:32:10.006614Z",
     "iopub.status.idle": "2023-11-21T19:32:10.034136Z",
     "shell.execute_reply": "2023-11-21T19:32:10.033232Z"
    },
    "papermill": {
     "duration": 0.043054,
     "end_time": "2023-11-21T19:32:10.036630",
     "exception": false,
     "start_time": "2023-11-21T19:32:09.993576",
     "status": "completed"
    },
    "tags": []
   },
   "outputs": [
    {
     "data": {
      "text/html": [
       "<div>\n",
       "<style scoped>\n",
       "    .dataframe tbody tr th:only-of-type {\n",
       "        vertical-align: middle;\n",
       "    }\n",
       "\n",
       "    .dataframe tbody tr th {\n",
       "        vertical-align: top;\n",
       "    }\n",
       "\n",
       "    .dataframe thead th {\n",
       "        text-align: right;\n",
       "    }\n",
       "</style>\n",
       "<table border=\"1\" class=\"dataframe\">\n",
       "  <thead>\n",
       "    <tr style=\"text-align: right;\">\n",
       "      <th></th>\n",
       "      <th>G</th>\n",
       "      <th>C</th>\n",
       "      <th>B</th>\n",
       "      <th>A</th>\n",
       "      <th>Ia</th>\n",
       "      <th>Ib</th>\n",
       "      <th>Ic</th>\n",
       "      <th>Va</th>\n",
       "      <th>Vb</th>\n",
       "      <th>Vc</th>\n",
       "    </tr>\n",
       "  </thead>\n",
       "  <tbody>\n",
       "    <tr>\n",
       "      <th>0</th>\n",
       "      <td>1</td>\n",
       "      <td>0</td>\n",
       "      <td>0</td>\n",
       "      <td>1</td>\n",
       "      <td>-151.291812</td>\n",
       "      <td>-9.677452</td>\n",
       "      <td>85.800162</td>\n",
       "      <td>0.400750</td>\n",
       "      <td>-0.132935</td>\n",
       "      <td>-0.267815</td>\n",
       "    </tr>\n",
       "    <tr>\n",
       "      <th>1</th>\n",
       "      <td>1</td>\n",
       "      <td>0</td>\n",
       "      <td>0</td>\n",
       "      <td>1</td>\n",
       "      <td>-336.186183</td>\n",
       "      <td>-76.283262</td>\n",
       "      <td>18.328897</td>\n",
       "      <td>0.312732</td>\n",
       "      <td>-0.123633</td>\n",
       "      <td>-0.189099</td>\n",
       "    </tr>\n",
       "    <tr>\n",
       "      <th>2</th>\n",
       "      <td>1</td>\n",
       "      <td>0</td>\n",
       "      <td>0</td>\n",
       "      <td>1</td>\n",
       "      <td>-502.891583</td>\n",
       "      <td>-174.648023</td>\n",
       "      <td>-80.924663</td>\n",
       "      <td>0.265728</td>\n",
       "      <td>-0.114301</td>\n",
       "      <td>-0.151428</td>\n",
       "    </tr>\n",
       "    <tr>\n",
       "      <th>3</th>\n",
       "      <td>1</td>\n",
       "      <td>0</td>\n",
       "      <td>0</td>\n",
       "      <td>1</td>\n",
       "      <td>-593.941905</td>\n",
       "      <td>-217.703359</td>\n",
       "      <td>-124.891924</td>\n",
       "      <td>0.235511</td>\n",
       "      <td>-0.104940</td>\n",
       "      <td>-0.130570</td>\n",
       "    </tr>\n",
       "    <tr>\n",
       "      <th>4</th>\n",
       "      <td>1</td>\n",
       "      <td>0</td>\n",
       "      <td>0</td>\n",
       "      <td>1</td>\n",
       "      <td>-643.663617</td>\n",
       "      <td>-224.159427</td>\n",
       "      <td>-132.282815</td>\n",
       "      <td>0.209537</td>\n",
       "      <td>-0.095554</td>\n",
       "      <td>-0.113983</td>\n",
       "    </tr>\n",
       "    <tr>\n",
       "      <th>...</th>\n",
       "      <td>...</td>\n",
       "      <td>...</td>\n",
       "      <td>...</td>\n",
       "      <td>...</td>\n",
       "      <td>...</td>\n",
       "      <td>...</td>\n",
       "      <td>...</td>\n",
       "      <td>...</td>\n",
       "      <td>...</td>\n",
       "      <td>...</td>\n",
       "    </tr>\n",
       "    <tr>\n",
       "      <th>7070</th>\n",
       "      <td>0</td>\n",
       "      <td>0</td>\n",
       "      <td>0</td>\n",
       "      <td>0</td>\n",
       "      <td>-60.139484</td>\n",
       "      <td>26.901767</td>\n",
       "      <td>30.143994</td>\n",
       "      <td>0.221023</td>\n",
       "      <td>-0.581831</td>\n",
       "      <td>0.360808</td>\n",
       "    </tr>\n",
       "    <tr>\n",
       "      <th>7071</th>\n",
       "      <td>0</td>\n",
       "      <td>0</td>\n",
       "      <td>0</td>\n",
       "      <td>0</td>\n",
       "      <td>-59.560123</td>\n",
       "      <td>25.906900</td>\n",
       "      <td>30.559797</td>\n",
       "      <td>0.229774</td>\n",
       "      <td>-0.582964</td>\n",
       "      <td>0.353190</td>\n",
       "    </tr>\n",
       "    <tr>\n",
       "      <th>7072</th>\n",
       "      <td>0</td>\n",
       "      <td>0</td>\n",
       "      <td>0</td>\n",
       "      <td>0</td>\n",
       "      <td>-58.968092</td>\n",
       "      <td>24.913656</td>\n",
       "      <td>30.961308</td>\n",
       "      <td>0.238465</td>\n",
       "      <td>-0.583948</td>\n",
       "      <td>0.345483</td>\n",
       "    </tr>\n",
       "    <tr>\n",
       "      <th>7073</th>\n",
       "      <td>0</td>\n",
       "      <td>0</td>\n",
       "      <td>0</td>\n",
       "      <td>0</td>\n",
       "      <td>-58.363538</td>\n",
       "      <td>23.922278</td>\n",
       "      <td>31.348429</td>\n",
       "      <td>0.247093</td>\n",
       "      <td>-0.584783</td>\n",
       "      <td>0.337690</td>\n",
       "    </tr>\n",
       "    <tr>\n",
       "      <th>7074</th>\n",
       "      <td>0</td>\n",
       "      <td>0</td>\n",
       "      <td>0</td>\n",
       "      <td>0</td>\n",
       "      <td>-57.746609</td>\n",
       "      <td>22.933011</td>\n",
       "      <td>31.721065</td>\n",
       "      <td>0.255658</td>\n",
       "      <td>-0.585469</td>\n",
       "      <td>0.329811</td>\n",
       "    </tr>\n",
       "  </tbody>\n",
       "</table>\n",
       "<p>7075 rows × 10 columns</p>\n",
       "</div>"
      ],
      "text/plain": [
       "      G  C  B  A          Ia          Ib          Ic        Va        Vb  \\\n",
       "0     1  0  0  1 -151.291812   -9.677452   85.800162  0.400750 -0.132935   \n",
       "1     1  0  0  1 -336.186183  -76.283262   18.328897  0.312732 -0.123633   \n",
       "2     1  0  0  1 -502.891583 -174.648023  -80.924663  0.265728 -0.114301   \n",
       "3     1  0  0  1 -593.941905 -217.703359 -124.891924  0.235511 -0.104940   \n",
       "4     1  0  0  1 -643.663617 -224.159427 -132.282815  0.209537 -0.095554   \n",
       "...  .. .. .. ..         ...         ...         ...       ...       ...   \n",
       "7070  0  0  0  0  -60.139484   26.901767   30.143994  0.221023 -0.581831   \n",
       "7071  0  0  0  0  -59.560123   25.906900   30.559797  0.229774 -0.582964   \n",
       "7072  0  0  0  0  -58.968092   24.913656   30.961308  0.238465 -0.583948   \n",
       "7073  0  0  0  0  -58.363538   23.922278   31.348429  0.247093 -0.584783   \n",
       "7074  0  0  0  0  -57.746609   22.933011   31.721065  0.255658 -0.585469   \n",
       "\n",
       "            Vc  \n",
       "0    -0.267815  \n",
       "1    -0.189099  \n",
       "2    -0.151428  \n",
       "3    -0.130570  \n",
       "4    -0.113983  \n",
       "...        ...  \n",
       "7070  0.360808  \n",
       "7071  0.353190  \n",
       "7072  0.345483  \n",
       "7073  0.337690  \n",
       "7074  0.329811  \n",
       "\n",
       "[7075 rows x 10 columns]"
      ]
     },
     "execution_count": 3,
     "metadata": {},
     "output_type": "execute_result"
    }
   ],
   "source": [
    "class_df.head(7075)"
   ]
  },
  {
   "cell_type": "markdown",
   "id": "5e73047e",
   "metadata": {
    "papermill": {
     "duration": 0.011376,
     "end_time": "2023-11-21T19:32:10.059495",
     "exception": false,
     "start_time": "2023-11-21T19:32:10.048119",
     "status": "completed"
    },
    "tags": []
   },
   "source": [
    "> #Checking the summary of the dataset (if there are any null data then remove it)"
   ]
  },
  {
   "cell_type": "code",
   "execution_count": 4,
   "id": "481a6ac9",
   "metadata": {
    "execution": {
     "iopub.execute_input": "2023-11-21T19:32:10.084431Z",
     "iopub.status.busy": "2023-11-21T19:32:10.084056Z",
     "iopub.status.idle": "2023-11-21T19:32:10.109363Z",
     "shell.execute_reply": "2023-11-21T19:32:10.108503Z"
    },
    "papermill": {
     "duration": 0.0402,
     "end_time": "2023-11-21T19:32:10.111625",
     "exception": false,
     "start_time": "2023-11-21T19:32:10.071425",
     "status": "completed"
    },
    "tags": []
   },
   "outputs": [
    {
     "name": "stdout",
     "output_type": "stream",
     "text": [
      "<class 'pandas.core.frame.DataFrame'>\n",
      "RangeIndex: 7861 entries, 0 to 7860\n",
      "Data columns (total 10 columns):\n",
      " #   Column  Non-Null Count  Dtype  \n",
      "---  ------  --------------  -----  \n",
      " 0   G       7861 non-null   int64  \n",
      " 1   C       7861 non-null   int64  \n",
      " 2   B       7861 non-null   int64  \n",
      " 3   A       7861 non-null   int64  \n",
      " 4   Ia      7861 non-null   float64\n",
      " 5   Ib      7861 non-null   float64\n",
      " 6   Ic      7861 non-null   float64\n",
      " 7   Va      7861 non-null   float64\n",
      " 8   Vb      7861 non-null   float64\n",
      " 9   Vc      7861 non-null   float64\n",
      "dtypes: float64(6), int64(4)\n",
      "memory usage: 614.3 KB\n"
     ]
    }
   ],
   "source": [
    "class_df.info()"
   ]
  },
  {
   "cell_type": "code",
   "execution_count": 5,
   "id": "708581d1",
   "metadata": {
    "execution": {
     "iopub.execute_input": "2023-11-21T19:32:10.136852Z",
     "iopub.status.busy": "2023-11-21T19:32:10.136027Z",
     "iopub.status.idle": "2023-11-21T19:32:10.159719Z",
     "shell.execute_reply": "2023-11-21T19:32:10.158699Z"
    },
    "papermill": {
     "duration": 0.038772,
     "end_time": "2023-11-21T19:32:10.162249",
     "exception": false,
     "start_time": "2023-11-21T19:32:10.123477",
     "status": "completed"
    },
    "tags": []
   },
   "outputs": [],
   "source": [
    "class_df['Fault_type'] = class_df['G'].astype('str') + class_df['C'].astype('str') + class_df['B'].astype('str') + class_df['A'].astype('str')\n",
    "                         "
   ]
  },
  {
   "cell_type": "code",
   "execution_count": 6,
   "id": "9e4a2405",
   "metadata": {
    "execution": {
     "iopub.execute_input": "2023-11-21T19:32:10.186154Z",
     "iopub.status.busy": "2023-11-21T19:32:10.185791Z",
     "iopub.status.idle": "2023-11-21T19:32:10.200854Z",
     "shell.execute_reply": "2023-11-21T19:32:10.199864Z"
    },
    "papermill": {
     "duration": 0.029678,
     "end_time": "2023-11-21T19:32:10.203208",
     "exception": false,
     "start_time": "2023-11-21T19:32:10.173530",
     "status": "completed"
    },
    "tags": []
   },
   "outputs": [
    {
     "data": {
      "text/html": [
       "<div>\n",
       "<style scoped>\n",
       "    .dataframe tbody tr th:only-of-type {\n",
       "        vertical-align: middle;\n",
       "    }\n",
       "\n",
       "    .dataframe tbody tr th {\n",
       "        vertical-align: top;\n",
       "    }\n",
       "\n",
       "    .dataframe thead th {\n",
       "        text-align: right;\n",
       "    }\n",
       "</style>\n",
       "<table border=\"1\" class=\"dataframe\">\n",
       "  <thead>\n",
       "    <tr style=\"text-align: right;\">\n",
       "      <th></th>\n",
       "      <th>G</th>\n",
       "      <th>C</th>\n",
       "      <th>B</th>\n",
       "      <th>A</th>\n",
       "      <th>Ia</th>\n",
       "      <th>Ib</th>\n",
       "      <th>Ic</th>\n",
       "      <th>Va</th>\n",
       "      <th>Vb</th>\n",
       "      <th>Vc</th>\n",
       "      <th>Fault_type</th>\n",
       "    </tr>\n",
       "  </thead>\n",
       "  <tbody>\n",
       "    <tr>\n",
       "      <th>0</th>\n",
       "      <td>1</td>\n",
       "      <td>0</td>\n",
       "      <td>0</td>\n",
       "      <td>1</td>\n",
       "      <td>-151.291812</td>\n",
       "      <td>-9.677452</td>\n",
       "      <td>85.800162</td>\n",
       "      <td>0.400750</td>\n",
       "      <td>-0.132935</td>\n",
       "      <td>-0.267815</td>\n",
       "      <td>1001</td>\n",
       "    </tr>\n",
       "    <tr>\n",
       "      <th>1</th>\n",
       "      <td>1</td>\n",
       "      <td>0</td>\n",
       "      <td>0</td>\n",
       "      <td>1</td>\n",
       "      <td>-336.186183</td>\n",
       "      <td>-76.283262</td>\n",
       "      <td>18.328897</td>\n",
       "      <td>0.312732</td>\n",
       "      <td>-0.123633</td>\n",
       "      <td>-0.189099</td>\n",
       "      <td>1001</td>\n",
       "    </tr>\n",
       "    <tr>\n",
       "      <th>2</th>\n",
       "      <td>1</td>\n",
       "      <td>0</td>\n",
       "      <td>0</td>\n",
       "      <td>1</td>\n",
       "      <td>-502.891583</td>\n",
       "      <td>-174.648023</td>\n",
       "      <td>-80.924663</td>\n",
       "      <td>0.265728</td>\n",
       "      <td>-0.114301</td>\n",
       "      <td>-0.151428</td>\n",
       "      <td>1001</td>\n",
       "    </tr>\n",
       "    <tr>\n",
       "      <th>3</th>\n",
       "      <td>1</td>\n",
       "      <td>0</td>\n",
       "      <td>0</td>\n",
       "      <td>1</td>\n",
       "      <td>-593.941905</td>\n",
       "      <td>-217.703359</td>\n",
       "      <td>-124.891924</td>\n",
       "      <td>0.235511</td>\n",
       "      <td>-0.104940</td>\n",
       "      <td>-0.130570</td>\n",
       "      <td>1001</td>\n",
       "    </tr>\n",
       "    <tr>\n",
       "      <th>4</th>\n",
       "      <td>1</td>\n",
       "      <td>0</td>\n",
       "      <td>0</td>\n",
       "      <td>1</td>\n",
       "      <td>-643.663617</td>\n",
       "      <td>-224.159427</td>\n",
       "      <td>-132.282815</td>\n",
       "      <td>0.209537</td>\n",
       "      <td>-0.095554</td>\n",
       "      <td>-0.113983</td>\n",
       "      <td>1001</td>\n",
       "    </tr>\n",
       "  </tbody>\n",
       "</table>\n",
       "</div>"
      ],
      "text/plain": [
       "   G  C  B  A          Ia          Ib          Ic        Va        Vb  \\\n",
       "0  1  0  0  1 -151.291812   -9.677452   85.800162  0.400750 -0.132935   \n",
       "1  1  0  0  1 -336.186183  -76.283262   18.328897  0.312732 -0.123633   \n",
       "2  1  0  0  1 -502.891583 -174.648023  -80.924663  0.265728 -0.114301   \n",
       "3  1  0  0  1 -593.941905 -217.703359 -124.891924  0.235511 -0.104940   \n",
       "4  1  0  0  1 -643.663617 -224.159427 -132.282815  0.209537 -0.095554   \n",
       "\n",
       "         Vc Fault_type  \n",
       "0 -0.267815       1001  \n",
       "1 -0.189099       1001  \n",
       "2 -0.151428       1001  \n",
       "3 -0.130570       1001  \n",
       "4 -0.113983       1001  "
      ]
     },
     "execution_count": 6,
     "metadata": {},
     "output_type": "execute_result"
    }
   ],
   "source": [
    "class_df.head()"
   ]
  },
  {
   "cell_type": "code",
   "execution_count": 7,
   "id": "91afbcf6",
   "metadata": {
    "execution": {
     "iopub.execute_input": "2023-11-21T19:32:10.229693Z",
     "iopub.status.busy": "2023-11-21T19:32:10.228777Z",
     "iopub.status.idle": "2023-11-21T19:32:10.237282Z",
     "shell.execute_reply": "2023-11-21T19:32:10.236164Z"
    },
    "papermill": {
     "duration": 0.024218,
     "end_time": "2023-11-21T19:32:10.239333",
     "exception": false,
     "start_time": "2023-11-21T19:32:10.215115",
     "status": "completed"
    },
    "tags": []
   },
   "outputs": [
    {
     "data": {
      "text/plain": [
       "array(['1001', '1011', '0110', '0111', '1111', '0000'], dtype=object)"
      ]
     },
     "execution_count": 7,
     "metadata": {},
     "output_type": "execute_result"
    }
   ],
   "source": [
    "class_df['Fault_type'].unique()"
   ]
  },
  {
   "cell_type": "markdown",
   "id": "55db8c70",
   "metadata": {
    "papermill": {
     "duration": 0.011314,
     "end_time": "2023-11-21T19:32:10.262616",
     "exception": false,
     "start_time": "2023-11-21T19:32:10.251302",
     "status": "completed"
    },
    "tags": []
   },
   "source": [
    "Mapping the faults to a single value.\n",
    "the mapping looks like this :\n",
    "* **'0000': 0,     #no fault\n",
    "* '1001': 1,     # LG fault (line A and G) \n",
    "* '1011': 2,     # LLG fault ( line A,B and G)\n",
    "* '0110': 3,     # LL fault (line B and C)\n",
    "* '0111': 4,     # LLL fault\n",
    "* '1111': 5     # LLG fault**"
   ]
  },
  {
   "cell_type": "code",
   "execution_count": 8,
   "id": "b29e60d1",
   "metadata": {
    "execution": {
     "iopub.execute_input": "2023-11-21T19:32:10.289194Z",
     "iopub.status.busy": "2023-11-21T19:32:10.287840Z",
     "iopub.status.idle": "2023-11-21T19:32:10.293650Z",
     "shell.execute_reply": "2023-11-21T19:32:10.292584Z"
    },
    "papermill": {
     "duration": 0.021382,
     "end_time": "2023-11-21T19:32:10.295576",
     "exception": false,
     "start_time": "2023-11-21T19:32:10.274194",
     "status": "completed"
    },
    "tags": []
   },
   "outputs": [],
   "source": [
    "fault_mapping = {\n",
    "    '0000': 0,     #no fault\n",
    "    '1001': 1,     # LG fault (line A and G) \n",
    "    '1011': 2,     # LLG fault ( line A,B and G)\n",
    "    '0110': 3,     # LL fault (line B and C)\n",
    "    '0111': 4,     # LLL fault\n",
    "    '1111': 5     # LLLG fault\n",
    "}"
   ]
  },
  {
   "cell_type": "code",
   "execution_count": 9,
   "id": "5a2e0a09",
   "metadata": {
    "execution": {
     "iopub.execute_input": "2023-11-21T19:32:10.321548Z",
     "iopub.status.busy": "2023-11-21T19:32:10.320565Z",
     "iopub.status.idle": "2023-11-21T19:32:10.325410Z",
     "shell.execute_reply": "2023-11-21T19:32:10.324356Z"
    },
    "papermill": {
     "duration": 0.020133,
     "end_time": "2023-11-21T19:32:10.327802",
     "exception": false,
     "start_time": "2023-11-21T19:32:10.307669",
     "status": "completed"
    },
    "tags": []
   },
   "outputs": [],
   "source": [
    "classes = ['No_Fault','LG','LLG','LL','LLL','LLLG']"
   ]
  },
  {
   "cell_type": "code",
   "execution_count": 10,
   "id": "b1021492",
   "metadata": {
    "execution": {
     "iopub.execute_input": "2023-11-21T19:32:10.354565Z",
     "iopub.status.busy": "2023-11-21T19:32:10.353927Z",
     "iopub.status.idle": "2023-11-21T19:32:10.360776Z",
     "shell.execute_reply": "2023-11-21T19:32:10.359444Z"
    },
    "papermill": {
     "duration": 0.023405,
     "end_time": "2023-11-21T19:32:10.363259",
     "exception": false,
     "start_time": "2023-11-21T19:32:10.339854",
     "status": "completed"
    },
    "tags": []
   },
   "outputs": [],
   "source": [
    "class_df['Fault_type'] = class_df['Fault_type'].map(fault_mapping)"
   ]
  },
  {
   "cell_type": "code",
   "execution_count": 11,
   "id": "79bd4c4b",
   "metadata": {
    "execution": {
     "iopub.execute_input": "2023-11-21T19:32:10.389614Z",
     "iopub.status.busy": "2023-11-21T19:32:10.389196Z",
     "iopub.status.idle": "2023-11-21T19:32:10.407428Z",
     "shell.execute_reply": "2023-11-21T19:32:10.406270Z"
    },
    "papermill": {
     "duration": 0.033969,
     "end_time": "2023-11-21T19:32:10.409231",
     "exception": false,
     "start_time": "2023-11-21T19:32:10.375262",
     "status": "completed"
    },
    "tags": []
   },
   "outputs": [
    {
     "data": {
      "text/html": [
       "<div>\n",
       "<style scoped>\n",
       "    .dataframe tbody tr th:only-of-type {\n",
       "        vertical-align: middle;\n",
       "    }\n",
       "\n",
       "    .dataframe tbody tr th {\n",
       "        vertical-align: top;\n",
       "    }\n",
       "\n",
       "    .dataframe thead th {\n",
       "        text-align: right;\n",
       "    }\n",
       "</style>\n",
       "<table border=\"1\" class=\"dataframe\">\n",
       "  <thead>\n",
       "    <tr style=\"text-align: right;\">\n",
       "      <th></th>\n",
       "      <th>G</th>\n",
       "      <th>C</th>\n",
       "      <th>B</th>\n",
       "      <th>A</th>\n",
       "      <th>Ia</th>\n",
       "      <th>Ib</th>\n",
       "      <th>Ic</th>\n",
       "      <th>Va</th>\n",
       "      <th>Vb</th>\n",
       "      <th>Vc</th>\n",
       "      <th>Fault_type</th>\n",
       "    </tr>\n",
       "  </thead>\n",
       "  <tbody>\n",
       "    <tr>\n",
       "      <th>5137</th>\n",
       "      <td>1</td>\n",
       "      <td>1</td>\n",
       "      <td>1</td>\n",
       "      <td>1</td>\n",
       "      <td>-487.679535</td>\n",
       "      <td>881.693984</td>\n",
       "      <td>-394.016712</td>\n",
       "      <td>0.020411</td>\n",
       "      <td>0.021952</td>\n",
       "      <td>-0.042363</td>\n",
       "      <td>5</td>\n",
       "    </tr>\n",
       "    <tr>\n",
       "      <th>3095</th>\n",
       "      <td>0</td>\n",
       "      <td>1</td>\n",
       "      <td>1</td>\n",
       "      <td>0</td>\n",
       "      <td>55.787516</td>\n",
       "      <td>-254.262248</td>\n",
       "      <td>201.057843</td>\n",
       "      <td>0.396025</td>\n",
       "      <td>0.040937</td>\n",
       "      <td>-0.436962</td>\n",
       "      <td>3</td>\n",
       "    </tr>\n",
       "    <tr>\n",
       "      <th>5403</th>\n",
       "      <td>1</td>\n",
       "      <td>1</td>\n",
       "      <td>1</td>\n",
       "      <td>1</td>\n",
       "      <td>872.482682</td>\n",
       "      <td>-412.709525</td>\n",
       "      <td>-10.962331</td>\n",
       "      <td>0.021500</td>\n",
       "      <td>-0.292238</td>\n",
       "      <td>0.270738</td>\n",
       "      <td>5</td>\n",
       "    </tr>\n",
       "    <tr>\n",
       "      <th>525</th>\n",
       "      <td>1</td>\n",
       "      <td>0</td>\n",
       "      <td>0</td>\n",
       "      <td>1</td>\n",
       "      <td>-158.640512</td>\n",
       "      <td>37.353337</td>\n",
       "      <td>-49.396400</td>\n",
       "      <td>-0.361305</td>\n",
       "      <td>0.597027</td>\n",
       "      <td>-0.235722</td>\n",
       "      <td>1</td>\n",
       "    </tr>\n",
       "    <tr>\n",
       "      <th>7453</th>\n",
       "      <td>0</td>\n",
       "      <td>0</td>\n",
       "      <td>0</td>\n",
       "      <td>0</td>\n",
       "      <td>-67.614451</td>\n",
       "      <td>42.598653</td>\n",
       "      <td>22.033877</td>\n",
       "      <td>0.065727</td>\n",
       "      <td>-0.540980</td>\n",
       "      <td>0.475254</td>\n",
       "      <td>0</td>\n",
       "    </tr>\n",
       "  </tbody>\n",
       "</table>\n",
       "</div>"
      ],
      "text/plain": [
       "      G  C  B  A          Ia          Ib          Ic        Va        Vb  \\\n",
       "5137  1  1  1  1 -487.679535  881.693984 -394.016712  0.020411  0.021952   \n",
       "3095  0  1  1  0   55.787516 -254.262248  201.057843  0.396025  0.040937   \n",
       "5403  1  1  1  1  872.482682 -412.709525  -10.962331  0.021500 -0.292238   \n",
       "525   1  0  0  1 -158.640512   37.353337  -49.396400 -0.361305  0.597027   \n",
       "7453  0  0  0  0  -67.614451   42.598653   22.033877  0.065727 -0.540980   \n",
       "\n",
       "            Vc  Fault_type  \n",
       "5137 -0.042363           5  \n",
       "3095 -0.436962           3  \n",
       "5403  0.270738           5  \n",
       "525  -0.235722           1  \n",
       "7453  0.475254           0  "
      ]
     },
     "execution_count": 11,
     "metadata": {},
     "output_type": "execute_result"
    }
   ],
   "source": [
    "class_df.sample(5)"
   ]
  },
  {
   "cell_type": "code",
   "execution_count": 12,
   "id": "b5287e0e",
   "metadata": {
    "execution": {
     "iopub.execute_input": "2023-11-21T19:32:10.434810Z",
     "iopub.status.busy": "2023-11-21T19:32:10.433933Z",
     "iopub.status.idle": "2023-11-21T19:32:10.441023Z",
     "shell.execute_reply": "2023-11-21T19:32:10.440369Z"
    },
    "papermill": {
     "duration": 0.021781,
     "end_time": "2023-11-21T19:32:10.442763",
     "exception": false,
     "start_time": "2023-11-21T19:32:10.420982",
     "status": "completed"
    },
    "tags": []
   },
   "outputs": [
    {
     "data": {
      "text/plain": [
       "0    2365\n",
       "2    1134\n",
       "5    1133\n",
       "1    1129\n",
       "4    1096\n",
       "3    1004\n",
       "Name: Fault_type, dtype: int64"
      ]
     },
     "execution_count": 12,
     "metadata": {},
     "output_type": "execute_result"
    }
   ],
   "source": [
    "class_df['Fault_type'].value_counts()"
   ]
  },
  {
   "cell_type": "markdown",
   "id": "5fe3e06a",
   "metadata": {
    "papermill": {
     "duration": 0.011854,
     "end_time": "2023-11-21T19:32:10.467279",
     "exception": false,
     "start_time": "2023-11-21T19:32:10.455425",
     "status": "completed"
    },
    "tags": []
   },
   "source": [
    "# Creating the Dataset"
   ]
  },
  {
   "cell_type": "code",
   "execution_count": 13,
   "id": "29ae9ff8",
   "metadata": {
    "execution": {
     "iopub.execute_input": "2023-11-21T19:32:10.494739Z",
     "iopub.status.busy": "2023-11-21T19:32:10.494102Z",
     "iopub.status.idle": "2023-11-21T19:32:10.499913Z",
     "shell.execute_reply": "2023-11-21T19:32:10.498821Z"
    },
    "papermill": {
     "duration": 0.022746,
     "end_time": "2023-11-21T19:32:10.502350",
     "exception": false,
     "start_time": "2023-11-21T19:32:10.479604",
     "status": "completed"
    },
    "tags": []
   },
   "outputs": [],
   "source": [
    "X = class_df.drop(['Fault_type','G','C','B','A'], axis=1)\n",
    "Y = class_df['Fault_type']"
   ]
  },
  {
   "cell_type": "markdown",
   "id": "d8979852",
   "metadata": {
    "papermill": {
     "duration": 0.012264,
     "end_time": "2023-11-21T19:32:10.527414",
     "exception": false,
     "start_time": "2023-11-21T19:32:10.515150",
     "status": "completed"
    },
    "tags": []
   },
   "source": [
    "# Splitting the dataset into train and valid"
   ]
  },
  {
   "cell_type": "code",
   "execution_count": 14,
   "id": "11fc3792",
   "metadata": {
    "execution": {
     "iopub.execute_input": "2023-11-21T19:32:10.554450Z",
     "iopub.status.busy": "2023-11-21T19:32:10.553553Z",
     "iopub.status.idle": "2023-11-21T19:32:10.763208Z",
     "shell.execute_reply": "2023-11-21T19:32:10.762501Z"
    },
    "papermill": {
     "duration": 0.225716,
     "end_time": "2023-11-21T19:32:10.765566",
     "exception": false,
     "start_time": "2023-11-21T19:32:10.539850",
     "status": "completed"
    },
    "tags": []
   },
   "outputs": [],
   "source": [
    "from sklearn.model_selection import train_test_split\n",
    "from sklearn.metrics import accuracy_score,classification_report,confusion_matrix,plot_confusion_matrix,ConfusionMatrixDisplay"
   ]
  },
  {
   "cell_type": "code",
   "execution_count": 15,
   "id": "b12a733c",
   "metadata": {
    "execution": {
     "iopub.execute_input": "2023-11-21T19:32:10.792437Z",
     "iopub.status.busy": "2023-11-21T19:32:10.791783Z",
     "iopub.status.idle": "2023-11-21T19:32:10.801656Z",
     "shell.execute_reply": "2023-11-21T19:32:10.798952Z"
    },
    "papermill": {
     "duration": 0.027099,
     "end_time": "2023-11-21T19:32:10.804794",
     "exception": false,
     "start_time": "2023-11-21T19:32:10.777695",
     "status": "completed"
    },
    "tags": []
   },
   "outputs": [],
   "source": [
    "X_train, X_val, Y_train, Y_val = train_test_split(X, Y, test_size=.2, random_state = 41)"
   ]
  },
  {
   "cell_type": "markdown",
   "id": "d23a8cc0",
   "metadata": {
    "papermill": {
     "duration": 0.011736,
     "end_time": "2023-11-21T19:32:10.828814",
     "exception": false,
     "start_time": "2023-11-21T19:32:10.817078",
     "status": "completed"
    },
    "tags": []
   },
   "source": [
    "# Model Building"
   ]
  },
  {
   "cell_type": "markdown",
   "id": "35321de7",
   "metadata": {
    "papermill": {
     "duration": 0.011924,
     "end_time": "2023-11-21T19:32:10.852951",
     "exception": false,
     "start_time": "2023-11-21T19:32:10.841027",
     "status": "completed"
    },
    "tags": []
   },
   "source": [
    "# **Decision-Tree-Classifier**"
   ]
  },
  {
   "cell_type": "code",
   "execution_count": 16,
   "id": "706ac1ce",
   "metadata": {
    "execution": {
     "iopub.execute_input": "2023-11-21T19:32:10.878920Z",
     "iopub.status.busy": "2023-11-21T19:32:10.878277Z",
     "iopub.status.idle": "2023-11-21T19:32:10.889716Z",
     "shell.execute_reply": "2023-11-21T19:32:10.888906Z"
    },
    "papermill": {
     "duration": 0.026447,
     "end_time": "2023-11-21T19:32:10.891510",
     "exception": false,
     "start_time": "2023-11-21T19:32:10.865063",
     "status": "completed"
    },
    "tags": []
   },
   "outputs": [
    {
     "data": {
      "text/html": [
       "<div>\n",
       "<style scoped>\n",
       "    .dataframe tbody tr th:only-of-type {\n",
       "        vertical-align: middle;\n",
       "    }\n",
       "\n",
       "    .dataframe tbody tr th {\n",
       "        vertical-align: top;\n",
       "    }\n",
       "\n",
       "    .dataframe thead th {\n",
       "        text-align: right;\n",
       "    }\n",
       "</style>\n",
       "<table border=\"1\" class=\"dataframe\">\n",
       "  <thead>\n",
       "    <tr style=\"text-align: right;\">\n",
       "      <th></th>\n",
       "      <th>Ia</th>\n",
       "      <th>Ib</th>\n",
       "      <th>Ic</th>\n",
       "      <th>Va</th>\n",
       "      <th>Vb</th>\n",
       "      <th>Vc</th>\n",
       "    </tr>\n",
       "  </thead>\n",
       "  <tbody>\n",
       "    <tr>\n",
       "      <th>1397</th>\n",
       "      <td>769.263106</td>\n",
       "      <td>-41.206154</td>\n",
       "      <td>38.296864</td>\n",
       "      <td>0.035077</td>\n",
       "      <td>-0.370247</td>\n",
       "      <td>0.335170</td>\n",
       "    </tr>\n",
       "    <tr>\n",
       "      <th>5110</th>\n",
       "      <td>-141.272523</td>\n",
       "      <td>825.770930</td>\n",
       "      <td>-684.500671</td>\n",
       "      <td>0.033866</td>\n",
       "      <td>0.005094</td>\n",
       "      <td>-0.038961</td>\n",
       "    </tr>\n",
       "    <tr>\n",
       "      <th>3106</th>\n",
       "      <td>56.936190</td>\n",
       "      <td>-377.065285</td>\n",
       "      <td>322.691658</td>\n",
       "      <td>0.336959</td>\n",
       "      <td>0.038450</td>\n",
       "      <td>-0.375408</td>\n",
       "    </tr>\n",
       "    <tr>\n",
       "      <th>4318</th>\n",
       "      <td>558.925342</td>\n",
       "      <td>-564.131265</td>\n",
       "      <td>7.336038</td>\n",
       "      <td>0.027458</td>\n",
       "      <td>-0.476219</td>\n",
       "      <td>0.448761</td>\n",
       "    </tr>\n",
       "    <tr>\n",
       "      <th>7074</th>\n",
       "      <td>-57.746609</td>\n",
       "      <td>22.933011</td>\n",
       "      <td>31.721065</td>\n",
       "      <td>0.255658</td>\n",
       "      <td>-0.585469</td>\n",
       "      <td>0.329811</td>\n",
       "    </tr>\n",
       "  </tbody>\n",
       "</table>\n",
       "</div>"
      ],
      "text/plain": [
       "              Ia          Ib          Ic        Va        Vb        Vc\n",
       "1397  769.263106  -41.206154   38.296864  0.035077 -0.370247  0.335170\n",
       "5110 -141.272523  825.770930 -684.500671  0.033866  0.005094 -0.038961\n",
       "3106   56.936190 -377.065285  322.691658  0.336959  0.038450 -0.375408\n",
       "4318  558.925342 -564.131265    7.336038  0.027458 -0.476219  0.448761\n",
       "7074  -57.746609   22.933011   31.721065  0.255658 -0.585469  0.329811"
      ]
     },
     "execution_count": 16,
     "metadata": {},
     "output_type": "execute_result"
    }
   ],
   "source": [
    "X_train.head()"
   ]
  },
  {
   "cell_type": "code",
   "execution_count": 17,
   "id": "cf500026",
   "metadata": {
    "execution": {
     "iopub.execute_input": "2023-11-21T19:32:10.919442Z",
     "iopub.status.busy": "2023-11-21T19:32:10.918743Z",
     "iopub.status.idle": "2023-11-21T19:32:11.476242Z",
     "shell.execute_reply": "2023-11-21T19:32:11.475211Z"
    },
    "papermill": {
     "duration": 0.574314,
     "end_time": "2023-11-21T19:32:11.478435",
     "exception": false,
     "start_time": "2023-11-21T19:32:10.904121",
     "status": "completed"
    },
    "tags": []
   },
   "outputs": [
    {
     "name": "stdout",
     "output_type": "stream",
     "text": [
      "Accuracy of the Training dataset is :  100.0 %\n",
      "Accuracy of the validation dataset is :  87.79402415766052 %\n"
     ]
    },
    {
     "data": {
      "text/plain": [
       "<sklearn.metrics._plot.confusion_matrix.ConfusionMatrixDisplay at 0x7fda7bff59d0>"
      ]
     },
     "execution_count": 17,
     "metadata": {},
     "output_type": "execute_result"
    },
    {
     "data": {
      "image/png": "[encoded data removed]",
      "text/plain": [
       "<Figure size 432x288 with 2 Axes>"
      ]
     },
     "metadata": {
      "needs_background": "light"
     },
     "output_type": "display_data"
    }
   ],
   "source": [
    "from sklearn.tree import DecisionTreeClassifier\n",
    "from sklearn.metrics import plot_confusion_matrix\n",
    "model_1 = DecisionTreeClassifier(criterion='entropy',splitter='best')\n",
    "model_1.fit(X_train,Y_train)\n",
    "\n",
    "\n",
    "#training acuracy\n",
    "predicts_t1 = model_1.predict(X_train)\n",
    "accuracy_t1 = (predicts_t1==Y_train).sum() / len(Y_train)\n",
    "print('Accuracy of the Training dataset is : ',accuracy_t1*100,'%')\n",
    "\n",
    "#validation accuracy\n",
    "predicts_1 = model_1.predict(X_val)\n",
    "accuracy_1 = (predicts_1==Y_val).sum() / len(Y_val)\n",
    "print('Accuracy of the validation dataset is : ',accuracy_1*100,'%')\n",
    "\n",
    "# Confusion Matrix\n",
    "conf_mat_1 = confusion_matrix(predicts_1,Y_val)\n",
    "disp = ConfusionMatrixDisplay(conf_mat_1,display_labels=classes)\n",
    "disp.plot()"
   ]
  },
  {
   "cell_type": "code",
   "execution_count": 18,
   "id": "1bcbdf7a",
   "metadata": {
    "execution": {
     "iopub.execute_input": "2023-11-21T19:32:11.506588Z",
     "iopub.status.busy": "2023-11-21T19:32:11.504784Z",
     "iopub.status.idle": "2023-11-21T19:32:11.726148Z",
     "shell.execute_reply": "2023-11-21T19:32:11.725379Z"
    },
    "papermill": {
     "duration": 0.237627,
     "end_time": "2023-11-21T19:32:11.728701",
     "exception": false,
     "start_time": "2023-11-21T19:32:11.491074",
     "status": "completed"
    },
    "tags": []
   },
   "outputs": [
    {
     "data": {
      "image/png": "[encoded data removed]",
      "text/plain": [
       "<Figure size 432x288 with 2 Axes>"
      ]
     },
     "metadata": {
      "needs_background": "light"
     },
     "output_type": "display_data"
    }
   ],
   "source": [
    "matrix_plt = plot_confusion_matrix(model_1,X_val,Y_val)"
   ]
  },
  {
   "cell_type": "code",
   "execution_count": 19,
   "id": "f6f7268e",
   "metadata": {
    "execution": {
     "iopub.execute_input": "2023-11-21T19:32:11.756453Z",
     "iopub.status.busy": "2023-11-21T19:32:11.756047Z",
     "iopub.status.idle": "2023-11-21T19:32:59.196636Z",
     "shell.execute_reply": "2023-11-21T19:32:59.195390Z"
    },
    "papermill": {
     "duration": 47.473737,
     "end_time": "2023-11-21T19:32:59.215525",
     "exception": false,
     "start_time": "2023-11-21T19:32:11.741788",
     "status": "completed"
    },
    "tags": []
   },
   "outputs": [
    {
     "data": {
      "image/png": "[encoded data removed]",
      "text/plain": [
       "<Figure size 1800x1440 with 1 Axes>"
      ]
     },
     "metadata": {
      "needs_background": "light"
     },
     "output_type": "display_data"
    }
   ],
   "source": [
    "from sklearn import tree\n",
    "fig = plt.figure(figsize=(25,20))\n",
    "_ = tree.plot_tree(model_1, \n",
    "                   feature_names=X_train.columns,  \n",
    "                   class_names={0:'No_Fault', 1: 'LG', 2:'LLG',3:'LL',4:'LLL',5:'LLG'},\n",
    "                   filled=True)"
   ]
  },
  {
   "cell_type": "code",
   "execution_count": 20,
   "id": "603e77c4",
   "metadata": {
    "execution": {
     "iopub.execute_input": "2023-11-21T19:32:59.248169Z",
     "iopub.status.busy": "2023-11-21T19:32:59.247820Z",
     "iopub.status.idle": "2023-11-21T19:33:09.850970Z",
     "shell.execute_reply": "2023-11-21T19:33:09.849205Z"
    },
    "papermill": {
     "duration": 10.622857,
     "end_time": "2023-11-21T19:33:09.853959",
     "exception": false,
     "start_time": "2023-11-21T19:32:59.231102",
     "status": "completed"
    },
    "tags": []
   },
   "outputs": [],
   "source": [
    "fig.savefig(\"decistion_tree_depth_3.png\")"
   ]
  },
  {
   "cell_type": "markdown",
   "id": "a0dcf398",
   "metadata": {
    "papermill": {
     "duration": 0.015203,
     "end_time": "2023-11-21T19:33:09.884605",
     "exception": false,
     "start_time": "2023-11-21T19:33:09.869402",
     "status": "completed"
    },
    "tags": []
   },
   "source": [
    "# **Inferance**"
   ]
  },
  {
   "cell_type": "markdown",
   "id": "2e0c0c94",
   "metadata": {
    "papermill": {
     "duration": 0.014842,
     "end_time": "2023-11-21T19:33:09.915619",
     "exception": false,
     "start_time": "2023-11-21T19:33:09.900777",
     "status": "completed"
    },
    "tags": []
   },
   "source": [
    "Dictonray fo fault types"
   ]
  },
  {
   "cell_type": "code",
   "execution_count": 21,
   "id": "b2cf3b25",
   "metadata": {
    "execution": {
     "iopub.execute_input": "2023-11-21T19:33:09.947594Z",
     "iopub.status.busy": "2023-11-21T19:33:09.947230Z",
     "iopub.status.idle": "2023-11-21T19:33:09.952999Z",
     "shell.execute_reply": "2023-11-21T19:33:09.951302Z"
    },
    "papermill": {
     "duration": 0.025083,
     "end_time": "2023-11-21T19:33:09.955726",
     "exception": false,
     "start_time": "2023-11-21T19:33:09.930643",
     "status": "completed"
    },
    "tags": []
   },
   "outputs": [],
   "source": [
    "Fault_type = {0:'No Fault',\n",
    "              1:'LG Fault',\n",
    "              2:'LLG Fault',\n",
    "              3:'LL Fault',\n",
    "              4:'LLL Fault',\n",
    "              5:'LLLG Fault' }"
   ]
  },
  {
   "cell_type": "markdown",
   "id": "bb4dea67",
   "metadata": {
    "papermill": {
     "duration": 0.015733,
     "end_time": "2023-11-21T19:33:09.987663",
     "exception": false,
     "start_time": "2023-11-21T19:33:09.971930",
     "status": "completed"
    },
    "tags": []
   },
   "source": [
    "# This function will take a test dataframe or a single test data and return the predictions of the model"
   ]
  },
  {
   "cell_type": "code",
   "execution_count": 22,
   "id": "28e3d55e",
   "metadata": {
    "execution": {
     "iopub.execute_input": "2023-11-21T19:33:10.021179Z",
     "iopub.status.busy": "2023-11-21T19:33:10.020771Z",
     "iopub.status.idle": "2023-11-21T19:33:10.027130Z",
     "shell.execute_reply": "2023-11-21T19:33:10.026392Z"
    },
    "papermill": {
     "duration": 0.025626,
     "end_time": "2023-11-21T19:33:10.029006",
     "exception": false,
     "start_time": "2023-11-21T19:33:10.003380",
     "status": "completed"
    },
    "tags": []
   },
   "outputs": [],
   "source": [
    "def inferance(test_input,model):\n",
    "    st = type(test_input)\n",
    "    \n",
    "    if st==type(pd.DataFrame([[0]])):\n",
    "        \n",
    "        df = test_input\n",
    "        p = model.predict(test_data)\n",
    "    else:\n",
    "        df = pd.DataFrame([[test_input[0],test_input[1],test_input[2],test_input[3],test_input[4],test_input[5]]],columns=['Ia','Ib','Ic','Va','Vb',\"Vc\"])\n",
    "        p = model.predict([test_data])\n",
    "    \n",
    "    \n",
    "    return p"
   ]
  },
  {
   "cell_type": "code",
   "execution_count": 23,
   "id": "1640ea5e",
   "metadata": {
    "execution": {
     "iopub.execute_input": "2023-11-21T19:33:10.062695Z",
     "iopub.status.busy": "2023-11-21T19:33:10.062266Z",
     "iopub.status.idle": "2023-11-21T19:33:10.071430Z",
     "shell.execute_reply": "2023-11-21T19:33:10.070502Z"
    },
    "papermill": {
     "duration": 0.02968,
     "end_time": "2023-11-21T19:33:10.074331",
     "exception": false,
     "start_time": "2023-11-21T19:33:10.044651",
     "status": "completed"
    },
    "tags": []
   },
   "outputs": [
    {
     "name": "stdout",
     "output_type": "stream",
     "text": [
      "--------------------------Predicted Fault type---------------------------------\n",
      "--- LLLG Fault ---\n",
      "--- LG Fault ---\n",
      "--- No Fault ---\n",
      "--- LLLG Fault ---\n",
      "--- LLL Fault ---\n",
      "--- No Fault ---\n",
      "--- No Fault ---\n",
      "--- No Fault ---\n",
      "--- LG Fault ---\n",
      "--- LG Fault ---\n",
      "--- LLL Fault ---\n",
      "--- LL Fault ---\n",
      "--- LLG Fault ---\n",
      "--- LL Fault ---\n",
      "--- No Fault ---\n",
      "--- LLLG Fault ---\n",
      "--- LLL Fault ---\n",
      "--- LG Fault ---\n",
      "--- No Fault ---\n",
      "--- No Fault ---\n"
     ]
    }
   ],
   "source": [
    "# the test data\n",
    "test_data = X_val.iloc[1000:1020]\n",
    "\n",
    "print('--------------------------Predicted Fault type---------------------------------')\n",
    "predictions = inferance(test_data,model_1)\n",
    "for p in predictions:\n",
    "    print('---',Fault_type[p.item()],'---')\n",
    "    \n",
    "    \n",
    "# print('\\n--------------------------Actual Fault type---------------------------------')\n",
    "\n",
    "# # Actual predictions\n",
    "# if type(test_data)==type(pd.DataFrame([[0]])):\n",
    "#     for ind in test_data.index:\n",
    "#         i = class_df['Fault_type'][ind]\n",
    "#         print(i,'---------------------------------',Fault_type[i.item()])"
   ]
  },
  {
   "cell_type": "markdown",
   "id": "cbdd177f",
   "metadata": {
    "papermill": {
     "duration": 0.015898,
     "end_time": "2023-11-21T19:33:10.105894",
     "exception": false,
     "start_time": "2023-11-21T19:33:10.089996",
     "status": "completed"
    },
    "tags": []
   },
   "source": [
    "# Training with Feed Forward Neural Network"
   ]
  },
  {
   "cell_type": "code",
   "execution_count": 24,
   "id": "a820d3f7",
   "metadata": {
    "execution": {
     "iopub.execute_input": "2023-11-21T19:33:10.138940Z",
     "iopub.status.busy": "2023-11-21T19:33:10.138499Z",
     "iopub.status.idle": "2023-11-21T19:33:10.142713Z",
     "shell.execute_reply": "2023-11-21T19:33:10.141517Z"
    },
    "papermill": {
     "duration": 0.023514,
     "end_time": "2023-11-21T19:33:10.144974",
     "exception": false,
     "start_time": "2023-11-21T19:33:10.121460",
     "status": "completed"
    },
    "tags": []
   },
   "outputs": [],
   "source": [
    "# import torch\n",
    "# import torch.nn as nn\n",
    "# import torch.nn.functional as F\n",
    "# from torch.utils.data import DataLoader,Dataset"
   ]
  },
  {
   "cell_type": "code",
   "execution_count": 25,
   "id": "30db9266",
   "metadata": {
    "execution": {
     "iopub.execute_input": "2023-11-21T19:33:10.176922Z",
     "iopub.status.busy": "2023-11-21T19:33:10.176573Z",
     "iopub.status.idle": "2023-11-21T19:33:10.180980Z",
     "shell.execute_reply": "2023-11-21T19:33:10.180193Z"
    },
    "papermill": {
     "duration": 0.022459,
     "end_time": "2023-11-21T19:33:10.182724",
     "exception": false,
     "start_time": "2023-11-21T19:33:10.160265",
     "status": "completed"
    },
    "tags": []
   },
   "outputs": [],
   "source": [
    "# class NNmodel(nn.Module):\n",
    "#     def __init__(self):\n",
    "#         super().__init__()\n",
    "#         self.fc1 = nn.Linear(6,128)\n",
    "#         self.fc2 = nn.Linear(128,256)\n",
    "#         self.fc3 = nn.Linear(256,512)\n",
    "#         self.fc4 = nn.Linear(512,1024)\n",
    "#         self.fc5 = nn.Linear(1024,512)\n",
    "#         self.fc6 = nn.Linear(512,128)\n",
    "#         self.fc7 = nn.Linear(128,6)\n",
    "        \n",
    "#     def forward(self,x):\n",
    "# #         print(x.shape)\n",
    "#         x1 = F.relu(self.fc2(F.relu(self.fc1(x))))\n",
    "# #         print(x1.shape)\n",
    "#         x2 = F.relu(self.fc4(F.relu(self.fc3(x1))))\n",
    "# #         print(x2.shape)\n",
    "#         x3 = F.relu(self.fc6(F.relu(self.fc5(x2))))\n",
    "# #         print(x3.shape)\n",
    "#         x4 = self.fc7(x3)\n",
    "# #         print(x4.shape)\n",
    "        \n",
    "#         return x4\n",
    "\n",
    "        "
   ]
  },
  {
   "cell_type": "code",
   "execution_count": 26,
   "id": "d16e4ffd",
   "metadata": {
    "execution": {
     "iopub.execute_input": "2023-11-21T19:33:10.215802Z",
     "iopub.status.busy": "2023-11-21T19:33:10.215419Z",
     "iopub.status.idle": "2023-11-21T19:33:10.220327Z",
     "shell.execute_reply": "2023-11-21T19:33:10.218835Z"
    },
    "papermill": {
     "duration": 0.023573,
     "end_time": "2023-11-21T19:33:10.222156",
     "exception": false,
     "start_time": "2023-11-21T19:33:10.198583",
     "status": "completed"
    },
    "tags": []
   },
   "outputs": [],
   "source": [
    "# train_x = X_train.reset_index(drop=True)\n",
    "# train_y = Y_train.reset_index(drop=True)\n",
    "# val_x = X_val.reset_index(drop=True)\n",
    "# val_y = Y_val.reset_index(drop=True)"
   ]
  },
  {
   "cell_type": "code",
   "execution_count": 27,
   "id": "2c0a3a27",
   "metadata": {
    "execution": {
     "iopub.execute_input": "2023-11-21T19:33:10.254698Z",
     "iopub.status.busy": "2023-11-21T19:33:10.254362Z",
     "iopub.status.idle": "2023-11-21T19:33:10.258594Z",
     "shell.execute_reply": "2023-11-21T19:33:10.257293Z"
    },
    "papermill": {
     "duration": 0.022992,
     "end_time": "2023-11-21T19:33:10.260687",
     "exception": false,
     "start_time": "2023-11-21T19:33:10.237695",
     "status": "completed"
    },
    "tags": []
   },
   "outputs": [],
   "source": [
    "# train_x.head()"
   ]
  },
  {
   "cell_type": "code",
   "execution_count": 28,
   "id": "130ad06e",
   "metadata": {
    "execution": {
     "iopub.execute_input": "2023-11-21T19:33:10.293054Z",
     "iopub.status.busy": "2023-11-21T19:33:10.292368Z",
     "iopub.status.idle": "2023-11-21T19:33:10.296977Z",
     "shell.execute_reply": "2023-11-21T19:33:10.295904Z"
    },
    "papermill": {
     "duration": 0.022789,
     "end_time": "2023-11-21T19:33:10.298732",
     "exception": false,
     "start_time": "2023-11-21T19:33:10.275943",
     "status": "completed"
    },
    "tags": []
   },
   "outputs": [],
   "source": [
    "# X_train.reset_index(drop=True).head()"
   ]
  },
  {
   "cell_type": "code",
   "execution_count": 29,
   "id": "ba52dfe1",
   "metadata": {
    "execution": {
     "iopub.execute_input": "2023-11-21T19:33:10.331192Z",
     "iopub.status.busy": "2023-11-21T19:33:10.330815Z",
     "iopub.status.idle": "2023-11-21T19:33:10.335107Z",
     "shell.execute_reply": "2023-11-21T19:33:10.334089Z"
    },
    "papermill": {
     "duration": 0.023374,
     "end_time": "2023-11-21T19:33:10.337453",
     "exception": false,
     "start_time": "2023-11-21T19:33:10.314079",
     "status": "completed"
    },
    "tags": []
   },
   "outputs": [],
   "source": [
    "# Y_train.head()"
   ]
  },
  {
   "cell_type": "code",
   "execution_count": 30,
   "id": "2f5f030c",
   "metadata": {
    "execution": {
     "iopub.execute_input": "2023-11-21T19:33:10.370393Z",
     "iopub.status.busy": "2023-11-21T19:33:10.370030Z",
     "iopub.status.idle": "2023-11-21T19:33:10.374443Z",
     "shell.execute_reply": "2023-11-21T19:33:10.373213Z"
    },
    "papermill": {
     "duration": 0.023566,
     "end_time": "2023-11-21T19:33:10.376597",
     "exception": false,
     "start_time": "2023-11-21T19:33:10.353031",
     "status": "completed"
    },
    "tags": []
   },
   "outputs": [],
   "source": [
    "# Y_train.reset_index(drop=True)"
   ]
  },
  {
   "cell_type": "code",
   "execution_count": 31,
   "id": "964cfbf4",
   "metadata": {
    "execution": {
     "iopub.execute_input": "2023-11-21T19:33:10.410805Z",
     "iopub.status.busy": "2023-11-21T19:33:10.410434Z",
     "iopub.status.idle": "2023-11-21T19:33:10.416237Z",
     "shell.execute_reply": "2023-11-21T19:33:10.414416Z"
    },
    "papermill": {
     "duration": 0.025443,
     "end_time": "2023-11-21T19:33:10.418682",
     "exception": false,
     "start_time": "2023-11-21T19:33:10.393239",
     "status": "completed"
    },
    "tags": []
   },
   "outputs": [],
   "source": [
    "# class FaultDataset(Dataset):\n",
    "#     def __init__(self,df,label):\n",
    "#         super().__init__()\n",
    "#         self.df = df#.reset_index(drop=True)\n",
    "#         self.label = label#.reset_index(drop=True)\n",
    "        \n",
    "#     def get_item(self,index):\n",
    "#         data = torch.tensor(X_train.iloc[index].tolist())\n",
    "#         label = torch.tensor(self.label[index])\n",
    "#         return [data, label]\n",
    "    \n",
    "#     def __len__(self):\n",
    "#         return len(self.df)"
   ]
  },
  {
   "cell_type": "code",
   "execution_count": 32,
   "id": "5e0e6644",
   "metadata": {
    "execution": {
     "iopub.execute_input": "2023-11-21T19:33:10.453047Z",
     "iopub.status.busy": "2023-11-21T19:33:10.452707Z",
     "iopub.status.idle": "2023-11-21T19:33:10.456505Z",
     "shell.execute_reply": "2023-11-21T19:33:10.455449Z"
    },
    "papermill": {
     "duration": 0.023295,
     "end_time": "2023-11-21T19:33:10.458340",
     "exception": false,
     "start_time": "2023-11-21T19:33:10.435045",
     "status": "completed"
    },
    "tags": []
   },
   "outputs": [],
   "source": [
    "# type(FaultDataset(train_x,train_y).get_item(6284)[0])"
   ]
  },
  {
   "cell_type": "code",
   "execution_count": 33,
   "id": "007ee8ee",
   "metadata": {
    "execution": {
     "iopub.execute_input": "2023-11-21T19:33:10.491040Z",
     "iopub.status.busy": "2023-11-21T19:33:10.490699Z",
     "iopub.status.idle": "2023-11-21T19:33:10.495469Z",
     "shell.execute_reply": "2023-11-21T19:33:10.494186Z"
    },
    "papermill": {
     "duration": 0.023687,
     "end_time": "2023-11-21T19:33:10.497580",
     "exception": false,
     "start_time": "2023-11-21T19:33:10.473893",
     "status": "completed"
    },
    "tags": []
   },
   "outputs": [],
   "source": [
    "# train_dataset = FaultDataset(train_x,train_y)\n",
    "# val_dataset   = FaultDataset(val_x,val_y)"
   ]
  },
  {
   "cell_type": "code",
   "execution_count": 34,
   "id": "8e53db09",
   "metadata": {
    "execution": {
     "iopub.execute_input": "2023-11-21T19:33:10.529794Z",
     "iopub.status.busy": "2023-11-21T19:33:10.529465Z",
     "iopub.status.idle": "2023-11-21T19:33:10.534143Z",
     "shell.execute_reply": "2023-11-21T19:33:10.532881Z"
    },
    "papermill": {
     "duration": 0.023153,
     "end_time": "2023-11-21T19:33:10.536169",
     "exception": false,
     "start_time": "2023-11-21T19:33:10.513016",
     "status": "completed"
    },
    "tags": []
   },
   "outputs": [],
   "source": [
    "# train_dataset.__len__()"
   ]
  },
  {
   "cell_type": "code",
   "execution_count": 35,
   "id": "a015a961",
   "metadata": {
    "execution": {
     "iopub.execute_input": "2023-11-21T19:33:10.569203Z",
     "iopub.status.busy": "2023-11-21T19:33:10.568847Z",
     "iopub.status.idle": "2023-11-21T19:33:10.572577Z",
     "shell.execute_reply": "2023-11-21T19:33:10.571547Z"
    },
    "papermill": {
     "duration": 0.02253,
     "end_time": "2023-11-21T19:33:10.574385",
     "exception": false,
     "start_time": "2023-11-21T19:33:10.551855",
     "status": "completed"
    },
    "tags": []
   },
   "outputs": [],
   "source": [
    "# train_loader = DataLoader(train_dataset,batch_size=8,shuffle=False,num_workers=2)\n",
    "# val_loader = DataLoader(val_dataset,batch_size=8,shuffle=False,num_workers=2)"
   ]
  },
  {
   "cell_type": "code",
   "execution_count": 36,
   "id": "1f01c228",
   "metadata": {
    "execution": {
     "iopub.execute_input": "2023-11-21T19:33:10.606887Z",
     "iopub.status.busy": "2023-11-21T19:33:10.606508Z",
     "iopub.status.idle": "2023-11-21T19:33:10.615716Z",
     "shell.execute_reply": "2023-11-21T19:33:10.614631Z"
    },
    "papermill": {
     "duration": 0.028399,
     "end_time": "2023-11-21T19:33:10.618201",
     "exception": false,
     "start_time": "2023-11-21T19:33:10.589802",
     "status": "completed"
    },
    "tags": []
   },
   "outputs": [],
   "source": [
    "# class FaultDataloader():\n",
    "#     def __init__(self,dataset,batch_size):\n",
    "#         super().__init__()\n",
    "#         self.dataset = dataset\n",
    "#         self.batch_size = batch_size\n",
    "# #         start = 0\n",
    "# #         for i in range(int(dataset.__len__()/batch_size)):\n",
    "# #             #print(type(dataset.get_item(start)[0]))\n",
    "# #             data = torch.stack([dataset.get_item(start+j)[0] for j in range(7)])\n",
    "# #             label = torch.stack([dataset.get_item(start+j)[1] for j in range(7)])\n",
    "# #             start = start+7\n",
    "            \n",
    "# #             return [data,label]\n",
    "        \n",
    "#     def get_data(self):\n",
    "#         data = []\n",
    "#         label = []\n",
    "#         start = 0\n",
    "#         for i in range(int(self.dataset.__len__()/self.batch_size)):\n",
    "#             #print(type(dataset.get_item(start)[0]))\n",
    "#             temp_data = torch.stack([self.dataset.get_item(start+j)[0] for j in range(8)])\n",
    "#             temp_label = torch.stack([self.dataset.get_item(start+j)[1] for j in range(8)])\n",
    "#             start = start+8\n",
    "#             data.append(temp_data)\n",
    "#             label.append(temp_label)\n",
    "#         return [torch.stack(data), torch.stack(label)]"
   ]
  },
  {
   "cell_type": "code",
   "execution_count": 37,
   "id": "53b474b6",
   "metadata": {
    "execution": {
     "iopub.execute_input": "2023-11-21T19:33:10.651686Z",
     "iopub.status.busy": "2023-11-21T19:33:10.651269Z",
     "iopub.status.idle": "2023-11-21T19:33:10.656459Z",
     "shell.execute_reply": "2023-11-21T19:33:10.654855Z"
    },
    "papermill": {
     "duration": 0.024716,
     "end_time": "2023-11-21T19:33:10.658476",
     "exception": false,
     "start_time": "2023-11-21T19:33:10.633760",
     "status": "completed"
    },
    "tags": []
   },
   "outputs": [],
   "source": [
    "# train_loader = FaultDataloader(train_dataset,batch_size=8)\n",
    "# val_loader = FaultDataloader(val_dataset,batch_size=8)"
   ]
  },
  {
   "cell_type": "code",
   "execution_count": 38,
   "id": "7ecabdcb",
   "metadata": {
    "execution": {
     "iopub.execute_input": "2023-11-21T19:33:10.691203Z",
     "iopub.status.busy": "2023-11-21T19:33:10.690799Z",
     "iopub.status.idle": "2023-11-21T19:33:10.695380Z",
     "shell.execute_reply": "2023-11-21T19:33:10.694459Z"
    },
    "papermill": {
     "duration": 0.02338,
     "end_time": "2023-11-21T19:33:10.697386",
     "exception": false,
     "start_time": "2023-11-21T19:33:10.674006",
     "status": "completed"
    },
    "tags": []
   },
   "outputs": [],
   "source": [
    "# data_train , label_train = train_loader.get_data()\n",
    "\n",
    "# data_val , label_val = val_loader.get_data()"
   ]
  },
  {
   "cell_type": "code",
   "execution_count": null,
   "id": "a3d4d52e",
   "metadata": {
    "papermill": {
     "duration": 0.014949,
     "end_time": "2023-11-21T19:33:10.728200",
     "exception": false,
     "start_time": "2023-11-21T19:33:10.713251",
     "status": "completed"
    },
    "tags": []
   },
   "outputs": [],
   "source": []
  },
  {
   "cell_type": "code",
   "execution_count": 39,
   "id": "d5dfd7dc",
   "metadata": {
    "execution": {
     "iopub.execute_input": "2023-11-21T19:33:10.760411Z",
     "iopub.status.busy": "2023-11-21T19:33:10.760002Z",
     "iopub.status.idle": "2023-11-21T19:33:10.765599Z",
     "shell.execute_reply": "2023-11-21T19:33:10.764247Z"
    },
    "papermill": {
     "duration": 0.024517,
     "end_time": "2023-11-21T19:33:10.768047",
     "exception": false,
     "start_time": "2023-11-21T19:33:10.743530",
     "status": "completed"
    },
    "tags": []
   },
   "outputs": [],
   "source": [
    "# from tqdm.notebook import tqdm"
   ]
  },
  {
   "cell_type": "code",
   "execution_count": 40,
   "id": "c44ac338",
   "metadata": {
    "execution": {
     "iopub.execute_input": "2023-11-21T19:33:10.800725Z",
     "iopub.status.busy": "2023-11-21T19:33:10.800294Z",
     "iopub.status.idle": "2023-11-21T19:33:10.806812Z",
     "shell.execute_reply": "2023-11-21T19:33:10.805023Z"
    },
    "papermill": {
     "duration": 0.026121,
     "end_time": "2023-11-21T19:33:10.809692",
     "exception": false,
     "start_time": "2023-11-21T19:33:10.783571",
     "status": "completed"
    },
    "tags": []
   },
   "outputs": [],
   "source": [
    "# device = torch.device('cuda' if torch.cuda.is_available() else 'cpu')"
   ]
  },
  {
   "cell_type": "code",
   "execution_count": 41,
   "id": "78320f0c",
   "metadata": {
    "execution": {
     "iopub.execute_input": "2023-11-21T19:33:10.842579Z",
     "iopub.status.busy": "2023-11-21T19:33:10.842189Z",
     "iopub.status.idle": "2023-11-21T19:33:10.846801Z",
     "shell.execute_reply": "2023-11-21T19:33:10.845781Z"
    },
    "papermill": {
     "duration": 0.023222,
     "end_time": "2023-11-21T19:33:10.848619",
     "exception": false,
     "start_time": "2023-11-21T19:33:10.825397",
     "status": "completed"
    },
    "tags": []
   },
   "outputs": [],
   "source": [
    "# model = NNmodel()\n",
    "# model = model.to(device)\n",
    "# criterion = nn.CrossEntropyLoss()\n",
    "# optimizer = torch.optim.SGD(model.parameters(),lr = .01)"
   ]
  },
  {
   "cell_type": "code",
   "execution_count": 42,
   "id": "15b84b0f",
   "metadata": {
    "execution": {
     "iopub.execute_input": "2023-11-21T19:33:10.881820Z",
     "iopub.status.busy": "2023-11-21T19:33:10.881457Z",
     "iopub.status.idle": "2023-11-21T19:33:10.887389Z",
     "shell.execute_reply": "2023-11-21T19:33:10.885568Z"
    },
    "papermill": {
     "duration": 0.02581,
     "end_time": "2023-11-21T19:33:10.889838",
     "exception": false,
     "start_time": "2023-11-21T19:33:10.864028",
     "status": "completed"
    },
    "tags": []
   },
   "outputs": [],
   "source": [
    "# model"
   ]
  },
  {
   "cell_type": "code",
   "execution_count": 43,
   "id": "b39d3264",
   "metadata": {
    "execution": {
     "iopub.execute_input": "2023-11-21T19:33:10.922137Z",
     "iopub.status.busy": "2023-11-21T19:33:10.921779Z",
     "iopub.status.idle": "2023-11-21T19:33:10.926794Z",
     "shell.execute_reply": "2023-11-21T19:33:10.925610Z"
    },
    "papermill": {
     "duration": 0.023588,
     "end_time": "2023-11-21T19:33:10.928708",
     "exception": false,
     "start_time": "2023-11-21T19:33:10.905120",
     "status": "completed"
    },
    "tags": []
   },
   "outputs": [],
   "source": [
    "# a = nn.functional.normalize(data_train[1],p=1,dim=1)\n",
    "# ouput = model(a)\n",
    "\n",
    "\n",
    "# print(torch.max(nn.functional.softmax(ouput),1))\n",
    "# print(label_train[1])\n",
    "\n",
    "# print(criterion(ouput,label_train[1]))"
   ]
  },
  {
   "cell_type": "code",
   "execution_count": 44,
   "id": "1b7f9b56",
   "metadata": {
    "execution": {
     "iopub.execute_input": "2023-11-21T19:33:10.960634Z",
     "iopub.status.busy": "2023-11-21T19:33:10.960238Z",
     "iopub.status.idle": "2023-11-21T19:33:10.965852Z",
     "shell.execute_reply": "2023-11-21T19:33:10.964225Z"
    },
    "papermill": {
     "duration": 0.023592,
     "end_time": "2023-11-21T19:33:10.967646",
     "exception": false,
     "start_time": "2023-11-21T19:33:10.944054",
     "status": "completed"
    },
    "tags": []
   },
   "outputs": [],
   "source": [
    "# num_epochs = 20"
   ]
  },
  {
   "cell_type": "code",
   "execution_count": 45,
   "id": "eeeca4f8",
   "metadata": {
    "execution": {
     "iopub.execute_input": "2023-11-21T19:33:11.000498Z",
     "iopub.status.busy": "2023-11-21T19:33:11.000009Z",
     "iopub.status.idle": "2023-11-21T19:33:11.005504Z",
     "shell.execute_reply": "2023-11-21T19:33:11.003949Z"
    },
    "papermill": {
     "duration": 0.025478,
     "end_time": "2023-11-21T19:33:11.008218",
     "exception": false,
     "start_time": "2023-11-21T19:33:10.982740",
     "status": "completed"
    },
    "tags": []
   },
   "outputs": [],
   "source": [
    "# for epoch in range(num_epochs):\n",
    "#     for i in tqdm(range(len(data_train))):\n",
    "#         data = nn.functional.normalize(data_train[i]).to(device)\n",
    "#         label = label_train[i].to(device)\n",
    "\n",
    "#         #forward pass\n",
    "#         outputs = model(data)\n",
    "# #         _, labels = torch.max(targets, dim=1)\n",
    "#         loss = criterion(outputs,label)\n",
    "\n",
    "#         #back pass\n",
    "#         optimizer.zero_grad()\n",
    "#         loss.backward()\n",
    "#         optimizer.step()\n",
    "\n",
    "#         if (i+1)%100 == 0:\n",
    "            \n",
    "#             print(f'epoch {epoch+1}/{num_epochs} , step {i+1}/{len(data_train)}, loss = {loss.item():.4f}')\n"
   ]
  },
  {
   "cell_type": "code",
   "execution_count": 46,
   "id": "49245661",
   "metadata": {
    "execution": {
     "iopub.execute_input": "2023-11-21T19:33:11.044337Z",
     "iopub.status.busy": "2023-11-21T19:33:11.043945Z",
     "iopub.status.idle": "2023-11-21T19:33:11.050112Z",
     "shell.execute_reply": "2023-11-21T19:33:11.048620Z"
    },
    "papermill": {
     "duration": 0.02634,
     "end_time": "2023-11-21T19:33:11.052190",
     "exception": false,
     "start_time": "2023-11-21T19:33:11.025850",
     "status": "completed"
    },
    "tags": []
   },
   "outputs": [],
   "source": [
    "# n_correct =0\n",
    "# n_samples = 0\n",
    "# with torch.no_grad():\n",
    "#     for i in tqdm(range(len(data_val))):\n",
    "#         data = data_val[i].to(device)\n",
    "#         label = label_val[i].to(device)\n",
    "\n",
    "#         #forward pass\n",
    "#         outputs = model(data)\n",
    "#         outputs = nn.Sigmoid()(outputs)\n",
    "# #         print(outputs)\n",
    "#         _, predicts = torch.max(outputs,1)\n",
    "#         print(predicts)\n",
    "#         val_loss = criterion(outputs,label)\n",
    "\n",
    "#         n_correct += (predicts==label).sum().item()\n",
    "#         n_samples += label.size(0)\n",
    "#     acc = 100*n_correct/n_samples\n",
    "#     print(f'Accuracy of the validation data is {acc}%')"
   ]
  },
  {
   "cell_type": "code",
   "execution_count": null,
   "id": "3f2017f6",
   "metadata": {
    "papermill": {
     "duration": 0.01578,
     "end_time": "2023-11-21T19:33:11.083501",
     "exception": false,
     "start_time": "2023-11-21T19:33:11.067721",
     "status": "completed"
    },
    "tags": []
   },
   "outputs": [],
   "source": []
  }
 ],
 "metadata": {
  "kaggle": {
   "accelerator": "none",
   "dataSources": [
    {
     "datasetId": 1358964,
     "sourceId": 2258354,
     "sourceType": "datasetVersion"
    }
   ],
   "dockerImageVersionId": 30380,
   "isGpuEnabled": false,
   "isInternetEnabled": true,
   "language": "python",
   "sourceType": "notebook"
  },
  "kernelspec": {
   "display_name": "Python 3",
   "language": "python",
   "name": "python3"
  },
  "language_info": {
   "codemirror_mode": {
    "name": "ipython",
    "version": 3
   },
   "file_extension": ".py",
   "mimetype": "text/x-python",
   "name": "python",
   "nbconvert_exporter": "python",
   "pygments_lexer": "ipython3",
   "version": "3.7.12"
  },
  "papermill": {
   "default_parameters": {},
   "duration": 72.58174,
   "end_time": "2023-11-21T19:33:12.022604",
   "environment_variables": {},
   "exception": null,
   "input_path": "__notebook__.ipynb",
   "output_path": "__notebook__.ipynb",
   "parameters": {},
   "start_time": "2023-11-21T19:31:59.440864",
   "version": "2.3.4"
  }
 },
 "nbformat": 4,
 "nbformat_minor": 5
}
