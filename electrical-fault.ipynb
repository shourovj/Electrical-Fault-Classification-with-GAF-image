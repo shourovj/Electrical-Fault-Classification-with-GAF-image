{
 "cells": [
  {
   "cell_type": "code",
   "execution_count": 1,
   "id": "3ff56748",
   "metadata": {
    "_cell_guid": "b1076dfc-b9ad-4769-8c92-a6c4dae69d19",
    "_uuid": "8f2839f25d086af736a60e9eeb907d3b93b6e0e5",
    "execution": {
     "iopub.execute_input": "2023-11-21T17:42:50.369204Z",
     "iopub.status.busy": "2023-11-21T17:42:50.368671Z",
     "iopub.status.idle": "2023-11-21T17:42:51.709612Z",
     "shell.execute_reply": "2023-11-21T17:42:51.707831Z"
    },
    "papermill": {
     "duration": 1.369564,
     "end_time": "2023-11-21T17:42:51.713142",
     "exception": false,
     "start_time": "2023-11-21T17:42:50.343578",
     "status": "completed"
    },
    "tags": []
   },
   "outputs": [],
   "source": [
    "import pandas as pd\n",
    "import numpy as np\n",
    "import seaborn as sea\n",
    "import matplotlib.pyplot as plt\n",
    "import warnings \n",
    "warnings.filterwarnings('ignore')"
   ]
  },
  {
   "cell_type": "code",
   "execution_count": 2,
   "id": "50002515",
   "metadata": {
    "execution": {
     "iopub.execute_input": "2023-11-21T17:42:51.753113Z",
     "iopub.status.busy": "2023-11-21T17:42:51.752608Z",
     "iopub.status.idle": "2023-11-21T17:42:51.869024Z",
     "shell.execute_reply": "2023-11-21T17:42:51.867704Z"
    },
    "papermill": {
     "duration": 0.14023,
     "end_time": "2023-11-21T17:42:51.872555",
     "exception": false,
     "start_time": "2023-11-21T17:42:51.732325",
     "status": "completed"
    },
    "tags": []
   },
   "outputs": [],
   "source": [
    "class_df = pd.read_csv('/kaggle/input/electrical-fault-detection-and-classification/classData.csv')\n",
    "detect_df = pd.read_csv('/kaggle/input/electrical-fault-detection-and-classification/detect_dataset.csv')"
   ]
  },
  {
   "cell_type": "code",
   "execution_count": 3,
   "id": "ef93a89e",
   "metadata": {
    "execution": {
     "iopub.execute_input": "2023-11-21T17:42:51.914149Z",
     "iopub.status.busy": "2023-11-21T17:42:51.912845Z",
     "iopub.status.idle": "2023-11-21T17:42:51.947156Z",
     "shell.execute_reply": "2023-11-21T17:42:51.945836Z"
    },
    "papermill": {
     "duration": 0.057649,
     "end_time": "2023-11-21T17:42:51.950426",
     "exception": false,
     "start_time": "2023-11-21T17:42:51.892777",
     "status": "completed"
    },
    "tags": []
   },
   "outputs": [
    {
     "data": {
      "text/html": [
       "<div>\n",
       "<style scoped>\n",
       "    .dataframe tbody tr th:only-of-type {\n",
       "        vertical-align: middle;\n",
       "    }\n",
       "\n",
       "    .dataframe tbody tr th {\n",
       "        vertical-align: top;\n",
       "    }\n",
       "\n",
       "    .dataframe thead th {\n",
       "        text-align: right;\n",
       "    }\n",
       "</style>\n",
       "<table border=\"1\" class=\"dataframe\">\n",
       "  <thead>\n",
       "    <tr style=\"text-align: right;\">\n",
       "      <th></th>\n",
       "      <th>G</th>\n",
       "      <th>C</th>\n",
       "      <th>B</th>\n",
       "      <th>A</th>\n",
       "      <th>Ia</th>\n",
       "      <th>Ib</th>\n",
       "      <th>Ic</th>\n",
       "      <th>Va</th>\n",
       "      <th>Vb</th>\n",
       "      <th>Vc</th>\n",
       "    </tr>\n",
       "  </thead>\n",
       "  <tbody>\n",
       "    <tr>\n",
       "      <th>0</th>\n",
       "      <td>1</td>\n",
       "      <td>0</td>\n",
       "      <td>0</td>\n",
       "      <td>1</td>\n",
       "      <td>-151.291812</td>\n",
       "      <td>-9.677452</td>\n",
       "      <td>85.800162</td>\n",
       "      <td>0.400750</td>\n",
       "      <td>-0.132935</td>\n",
       "      <td>-0.267815</td>\n",
       "    </tr>\n",
       "    <tr>\n",
       "      <th>1</th>\n",
       "      <td>1</td>\n",
       "      <td>0</td>\n",
       "      <td>0</td>\n",
       "      <td>1</td>\n",
       "      <td>-336.186183</td>\n",
       "      <td>-76.283262</td>\n",
       "      <td>18.328897</td>\n",
       "      <td>0.312732</td>\n",
       "      <td>-0.123633</td>\n",
       "      <td>-0.189099</td>\n",
       "    </tr>\n",
       "    <tr>\n",
       "      <th>2</th>\n",
       "      <td>1</td>\n",
       "      <td>0</td>\n",
       "      <td>0</td>\n",
       "      <td>1</td>\n",
       "      <td>-502.891583</td>\n",
       "      <td>-174.648023</td>\n",
       "      <td>-80.924663</td>\n",
       "      <td>0.265728</td>\n",
       "      <td>-0.114301</td>\n",
       "      <td>-0.151428</td>\n",
       "    </tr>\n",
       "    <tr>\n",
       "      <th>3</th>\n",
       "      <td>1</td>\n",
       "      <td>0</td>\n",
       "      <td>0</td>\n",
       "      <td>1</td>\n",
       "      <td>-593.941905</td>\n",
       "      <td>-217.703359</td>\n",
       "      <td>-124.891924</td>\n",
       "      <td>0.235511</td>\n",
       "      <td>-0.104940</td>\n",
       "      <td>-0.130570</td>\n",
       "    </tr>\n",
       "    <tr>\n",
       "      <th>4</th>\n",
       "      <td>1</td>\n",
       "      <td>0</td>\n",
       "      <td>0</td>\n",
       "      <td>1</td>\n",
       "      <td>-643.663617</td>\n",
       "      <td>-224.159427</td>\n",
       "      <td>-132.282815</td>\n",
       "      <td>0.209537</td>\n",
       "      <td>-0.095554</td>\n",
       "      <td>-0.113983</td>\n",
       "    </tr>\n",
       "    <tr>\n",
       "      <th>...</th>\n",
       "      <td>...</td>\n",
       "      <td>...</td>\n",
       "      <td>...</td>\n",
       "      <td>...</td>\n",
       "      <td>...</td>\n",
       "      <td>...</td>\n",
       "      <td>...</td>\n",
       "      <td>...</td>\n",
       "      <td>...</td>\n",
       "      <td>...</td>\n",
       "    </tr>\n",
       "    <tr>\n",
       "      <th>7070</th>\n",
       "      <td>0</td>\n",
       "      <td>0</td>\n",
       "      <td>0</td>\n",
       "      <td>0</td>\n",
       "      <td>-60.139484</td>\n",
       "      <td>26.901767</td>\n",
       "      <td>30.143994</td>\n",
       "      <td>0.221023</td>\n",
       "      <td>-0.581831</td>\n",
       "      <td>0.360808</td>\n",
       "    </tr>\n",
       "    <tr>\n",
       "      <th>7071</th>\n",
       "      <td>0</td>\n",
       "      <td>0</td>\n",
       "      <td>0</td>\n",
       "      <td>0</td>\n",
       "      <td>-59.560123</td>\n",
       "      <td>25.906900</td>\n",
       "      <td>30.559797</td>\n",
       "      <td>0.229774</td>\n",
       "      <td>-0.582964</td>\n",
       "      <td>0.353190</td>\n",
       "    </tr>\n",
       "    <tr>\n",
       "      <th>7072</th>\n",
       "      <td>0</td>\n",
       "      <td>0</td>\n",
       "      <td>0</td>\n",
       "      <td>0</td>\n",
       "      <td>-58.968092</td>\n",
       "      <td>24.913656</td>\n",
       "      <td>30.961308</td>\n",
       "      <td>0.238465</td>\n",
       "      <td>-0.583948</td>\n",
       "      <td>0.345483</td>\n",
       "    </tr>\n",
       "    <tr>\n",
       "      <th>7073</th>\n",
       "      <td>0</td>\n",
       "      <td>0</td>\n",
       "      <td>0</td>\n",
       "      <td>0</td>\n",
       "      <td>-58.363538</td>\n",
       "      <td>23.922278</td>\n",
       "      <td>31.348429</td>\n",
       "      <td>0.247093</td>\n",
       "      <td>-0.584783</td>\n",
       "      <td>0.337690</td>\n",
       "    </tr>\n",
       "    <tr>\n",
       "      <th>7074</th>\n",
       "      <td>0</td>\n",
       "      <td>0</td>\n",
       "      <td>0</td>\n",
       "      <td>0</td>\n",
       "      <td>-57.746609</td>\n",
       "      <td>22.933011</td>\n",
       "      <td>31.721065</td>\n",
       "      <td>0.255658</td>\n",
       "      <td>-0.585469</td>\n",
       "      <td>0.329811</td>\n",
       "    </tr>\n",
       "  </tbody>\n",
       "</table>\n",
       "<p>7075 rows × 10 columns</p>\n",
       "</div>"
      ],
      "text/plain": [
       "      G  C  B  A          Ia          Ib          Ic        Va        Vb  \\\n",
       "0     1  0  0  1 -151.291812   -9.677452   85.800162  0.400750 -0.132935   \n",
       "1     1  0  0  1 -336.186183  -76.283262   18.328897  0.312732 -0.123633   \n",
       "2     1  0  0  1 -502.891583 -174.648023  -80.924663  0.265728 -0.114301   \n",
       "3     1  0  0  1 -593.941905 -217.703359 -124.891924  0.235511 -0.104940   \n",
       "4     1  0  0  1 -643.663617 -224.159427 -132.282815  0.209537 -0.095554   \n",
       "...  .. .. .. ..         ...         ...         ...       ...       ...   \n",
       "7070  0  0  0  0  -60.139484   26.901767   30.143994  0.221023 -0.581831   \n",
       "7071  0  0  0  0  -59.560123   25.906900   30.559797  0.229774 -0.582964   \n",
       "7072  0  0  0  0  -58.968092   24.913656   30.961308  0.238465 -0.583948   \n",
       "7073  0  0  0  0  -58.363538   23.922278   31.348429  0.247093 -0.584783   \n",
       "7074  0  0  0  0  -57.746609   22.933011   31.721065  0.255658 -0.585469   \n",
       "\n",
       "            Vc  \n",
       "0    -0.267815  \n",
       "1    -0.189099  \n",
       "2    -0.151428  \n",
       "3    -0.130570  \n",
       "4    -0.113983  \n",
       "...        ...  \n",
       "7070  0.360808  \n",
       "7071  0.353190  \n",
       "7072  0.345483  \n",
       "7073  0.337690  \n",
       "7074  0.329811  \n",
       "\n",
       "[7075 rows x 10 columns]"
      ]
     },
     "execution_count": 3,
     "metadata": {},
     "output_type": "execute_result"
    }
   ],
   "source": [
    "class_df.head(7075)"
   ]
  },
  {
   "cell_type": "markdown",
   "id": "b9251063",
   "metadata": {
    "papermill": {
     "duration": 0.019542,
     "end_time": "2023-11-21T17:42:51.988772",
     "exception": false,
     "start_time": "2023-11-21T17:42:51.969230",
     "status": "completed"
    },
    "tags": []
   },
   "source": [
    "> #Checking the summary of the dataset (if there are any null data then remove it)"
   ]
  },
  {
   "cell_type": "code",
   "execution_count": 4,
   "id": "00bd1db4",
   "metadata": {
    "execution": {
     "iopub.execute_input": "2023-11-21T17:42:52.032987Z",
     "iopub.status.busy": "2023-11-21T17:42:52.032433Z",
     "iopub.status.idle": "2023-11-21T17:42:52.059993Z",
     "shell.execute_reply": "2023-11-21T17:42:52.058383Z"
    },
    "papermill": {
     "duration": 0.052003,
     "end_time": "2023-11-21T17:42:52.063129",
     "exception": false,
     "start_time": "2023-11-21T17:42:52.011126",
     "status": "completed"
    },
    "tags": []
   },
   "outputs": [
    {
     "name": "stdout",
     "output_type": "stream",
     "text": [
      "<class 'pandas.core.frame.DataFrame'>\n",
      "RangeIndex: 7861 entries, 0 to 7860\n",
      "Data columns (total 10 columns):\n",
      " #   Column  Non-Null Count  Dtype  \n",
      "---  ------  --------------  -----  \n",
      " 0   G       7861 non-null   int64  \n",
      " 1   C       7861 non-null   int64  \n",
      " 2   B       7861 non-null   int64  \n",
      " 3   A       7861 non-null   int64  \n",
      " 4   Ia      7861 non-null   float64\n",
      " 5   Ib      7861 non-null   float64\n",
      " 6   Ic      7861 non-null   float64\n",
      " 7   Va      7861 non-null   float64\n",
      " 8   Vb      7861 non-null   float64\n",
      " 9   Vc      7861 non-null   float64\n",
      "dtypes: float64(6), int64(4)\n",
      "memory usage: 614.3 KB\n"
     ]
    }
   ],
   "source": [
    "class_df.info()"
   ]
  },
  {
   "cell_type": "code",
   "execution_count": 5,
   "id": "06f6d31c",
   "metadata": {
    "execution": {
     "iopub.execute_input": "2023-11-21T17:42:52.103183Z",
     "iopub.status.busy": "2023-11-21T17:42:52.102678Z",
     "iopub.status.idle": "2023-11-21T17:42:52.151610Z",
     "shell.execute_reply": "2023-11-21T17:42:52.150197Z"
    },
    "papermill": {
     "duration": 0.072839,
     "end_time": "2023-11-21T17:42:52.154728",
     "exception": false,
     "start_time": "2023-11-21T17:42:52.081889",
     "status": "completed"
    },
    "tags": []
   },
   "outputs": [],
   "source": [
    "class_df['Fault_type'] = class_df['G'].astype('str') + class_df['C'].astype('str') + class_df['B'].astype('str') + class_df['A'].astype('str')\n",
    "                         "
   ]
  },
  {
   "cell_type": "code",
   "execution_count": 6,
   "id": "9648b328",
   "metadata": {
    "execution": {
     "iopub.execute_input": "2023-11-21T17:42:52.194543Z",
     "iopub.status.busy": "2023-11-21T17:42:52.194039Z",
     "iopub.status.idle": "2023-11-21T17:42:52.213834Z",
     "shell.execute_reply": "2023-11-21T17:42:52.212527Z"
    },
    "papermill": {
     "duration": 0.043593,
     "end_time": "2023-11-21T17:42:52.217009",
     "exception": false,
     "start_time": "2023-11-21T17:42:52.173416",
     "status": "completed"
    },
    "tags": []
   },
   "outputs": [
    {
     "data": {
      "text/html": [
       "<div>\n",
       "<style scoped>\n",
       "    .dataframe tbody tr th:only-of-type {\n",
       "        vertical-align: middle;\n",
       "    }\n",
       "\n",
       "    .dataframe tbody tr th {\n",
       "        vertical-align: top;\n",
       "    }\n",
       "\n",
       "    .dataframe thead th {\n",
       "        text-align: right;\n",
       "    }\n",
       "</style>\n",
       "<table border=\"1\" class=\"dataframe\">\n",
       "  <thead>\n",
       "    <tr style=\"text-align: right;\">\n",
       "      <th></th>\n",
       "      <th>G</th>\n",
       "      <th>C</th>\n",
       "      <th>B</th>\n",
       "      <th>A</th>\n",
       "      <th>Ia</th>\n",
       "      <th>Ib</th>\n",
       "      <th>Ic</th>\n",
       "      <th>Va</th>\n",
       "      <th>Vb</th>\n",
       "      <th>Vc</th>\n",
       "      <th>Fault_type</th>\n",
       "    </tr>\n",
       "  </thead>\n",
       "  <tbody>\n",
       "    <tr>\n",
       "      <th>0</th>\n",
       "      <td>1</td>\n",
       "      <td>0</td>\n",
       "      <td>0</td>\n",
       "      <td>1</td>\n",
       "      <td>-151.291812</td>\n",
       "      <td>-9.677452</td>\n",
       "      <td>85.800162</td>\n",
       "      <td>0.400750</td>\n",
       "      <td>-0.132935</td>\n",
       "      <td>-0.267815</td>\n",
       "      <td>1001</td>\n",
       "    </tr>\n",
       "    <tr>\n",
       "      <th>1</th>\n",
       "      <td>1</td>\n",
       "      <td>0</td>\n",
       "      <td>0</td>\n",
       "      <td>1</td>\n",
       "      <td>-336.186183</td>\n",
       "      <td>-76.283262</td>\n",
       "      <td>18.328897</td>\n",
       "      <td>0.312732</td>\n",
       "      <td>-0.123633</td>\n",
       "      <td>-0.189099</td>\n",
       "      <td>1001</td>\n",
       "    </tr>\n",
       "    <tr>\n",
       "      <th>2</th>\n",
       "      <td>1</td>\n",
       "      <td>0</td>\n",
       "      <td>0</td>\n",
       "      <td>1</td>\n",
       "      <td>-502.891583</td>\n",
       "      <td>-174.648023</td>\n",
       "      <td>-80.924663</td>\n",
       "      <td>0.265728</td>\n",
       "      <td>-0.114301</td>\n",
       "      <td>-0.151428</td>\n",
       "      <td>1001</td>\n",
       "    </tr>\n",
       "    <tr>\n",
       "      <th>3</th>\n",
       "      <td>1</td>\n",
       "      <td>0</td>\n",
       "      <td>0</td>\n",
       "      <td>1</td>\n",
       "      <td>-593.941905</td>\n",
       "      <td>-217.703359</td>\n",
       "      <td>-124.891924</td>\n",
       "      <td>0.235511</td>\n",
       "      <td>-0.104940</td>\n",
       "      <td>-0.130570</td>\n",
       "      <td>1001</td>\n",
       "    </tr>\n",
       "    <tr>\n",
       "      <th>4</th>\n",
       "      <td>1</td>\n",
       "      <td>0</td>\n",
       "      <td>0</td>\n",
       "      <td>1</td>\n",
       "      <td>-643.663617</td>\n",
       "      <td>-224.159427</td>\n",
       "      <td>-132.282815</td>\n",
       "      <td>0.209537</td>\n",
       "      <td>-0.095554</td>\n",
       "      <td>-0.113983</td>\n",
       "      <td>1001</td>\n",
       "    </tr>\n",
       "  </tbody>\n",
       "</table>\n",
       "</div>"
      ],
      "text/plain": [
       "   G  C  B  A          Ia          Ib          Ic        Va        Vb  \\\n",
       "0  1  0  0  1 -151.291812   -9.677452   85.800162  0.400750 -0.132935   \n",
       "1  1  0  0  1 -336.186183  -76.283262   18.328897  0.312732 -0.123633   \n",
       "2  1  0  0  1 -502.891583 -174.648023  -80.924663  0.265728 -0.114301   \n",
       "3  1  0  0  1 -593.941905 -217.703359 -124.891924  0.235511 -0.104940   \n",
       "4  1  0  0  1 -643.663617 -224.159427 -132.282815  0.209537 -0.095554   \n",
       "\n",
       "         Vc Fault_type  \n",
       "0 -0.267815       1001  \n",
       "1 -0.189099       1001  \n",
       "2 -0.151428       1001  \n",
       "3 -0.130570       1001  \n",
       "4 -0.113983       1001  "
      ]
     },
     "execution_count": 6,
     "metadata": {},
     "output_type": "execute_result"
    }
   ],
   "source": [
    "class_df.head()"
   ]
  },
  {
   "cell_type": "code",
   "execution_count": 7,
   "id": "b638e025",
   "metadata": {
    "execution": {
     "iopub.execute_input": "2023-11-21T17:42:52.258318Z",
     "iopub.status.busy": "2023-11-21T17:42:52.257847Z",
     "iopub.status.idle": "2023-11-21T17:42:52.268175Z",
     "shell.execute_reply": "2023-11-21T17:42:52.267141Z"
    },
    "papermill": {
     "duration": 0.033852,
     "end_time": "2023-11-21T17:42:52.270529",
     "exception": false,
     "start_time": "2023-11-21T17:42:52.236677",
     "status": "completed"
    },
    "tags": []
   },
   "outputs": [
    {
     "data": {
      "text/plain": [
       "array(['1001', '1011', '0110', '0111', '1111', '0000'], dtype=object)"
      ]
     },
     "execution_count": 7,
     "metadata": {},
     "output_type": "execute_result"
    }
   ],
   "source": [
    "class_df['Fault_type'].unique()"
   ]
  },
  {
   "cell_type": "markdown",
   "id": "eebd3a48",
   "metadata": {
    "papermill": {
     "duration": 0.019666,
     "end_time": "2023-11-21T17:42:52.309677",
     "exception": false,
     "start_time": "2023-11-21T17:42:52.290011",
     "status": "completed"
    },
    "tags": []
   },
   "source": [
    "Mapping the faults to a single value.\n",
    "the mapping looks like this :\n",
    "* **'0000': 0,     #no fault\n",
    "* '1001': 1,     # LG fault (line A and G) \n",
    "* '1011': 2,     # LLG fault ( line A,B and G)\n",
    "* '0110': 3,     # LL fault (line B and C)\n",
    "* '0111': 4,     # LLL fault\n",
    "* '1111': 5     # LLG fault**"
   ]
  },
  {
   "cell_type": "code",
   "execution_count": 8,
   "id": "33672a2b",
   "metadata": {
    "execution": {
     "iopub.execute_input": "2023-11-21T17:42:52.352526Z",
     "iopub.status.busy": "2023-11-21T17:42:52.352031Z",
     "iopub.status.idle": "2023-11-21T17:42:52.358884Z",
     "shell.execute_reply": "2023-11-21T17:42:52.357376Z"
    },
    "papermill": {
     "duration": 0.031566,
     "end_time": "2023-11-21T17:42:52.361921",
     "exception": false,
     "start_time": "2023-11-21T17:42:52.330355",
     "status": "completed"
    },
    "tags": []
   },
   "outputs": [],
   "source": [
    "fault_mapping = {\n",
    "    '0000': 0,     #no fault\n",
    "    '1001': 1,     # LG fault (line A and G) \n",
    "    '1011': 2,     # LLG fault ( line A,B and G)\n",
    "    '0110': 3,     # LL fault (line B and C)\n",
    "    '0111': 4,     # LLL fault\n",
    "    '1111': 5     # LLLG fault\n",
    "}"
   ]
  },
  {
   "cell_type": "code",
   "execution_count": 9,
   "id": "fa29416c",
   "metadata": {
    "execution": {
     "iopub.execute_input": "2023-11-21T17:42:52.403909Z",
     "iopub.status.busy": "2023-11-21T17:42:52.403451Z",
     "iopub.status.idle": "2023-11-21T17:42:52.409311Z",
     "shell.execute_reply": "2023-11-21T17:42:52.407777Z"
    },
    "papermill": {
     "duration": 0.030609,
     "end_time": "2023-11-21T17:42:52.412337",
     "exception": false,
     "start_time": "2023-11-21T17:42:52.381728",
     "status": "completed"
    },
    "tags": []
   },
   "outputs": [],
   "source": [
    "classes = ['No_Fault','LG','LLG','LL','LLL','LLLG']"
   ]
  },
  {
   "cell_type": "code",
   "execution_count": 10,
   "id": "2b0873d4",
   "metadata": {
    "execution": {
     "iopub.execute_input": "2023-11-21T17:42:52.454251Z",
     "iopub.status.busy": "2023-11-21T17:42:52.453836Z",
     "iopub.status.idle": "2023-11-21T17:42:52.463230Z",
     "shell.execute_reply": "2023-11-21T17:42:52.461979Z"
    },
    "papermill": {
     "duration": 0.033423,
     "end_time": "2023-11-21T17:42:52.465801",
     "exception": false,
     "start_time": "2023-11-21T17:42:52.432378",
     "status": "completed"
    },
    "tags": []
   },
   "outputs": [],
   "source": [
    "class_df['Fault_type'] = class_df['Fault_type'].map(fault_mapping)"
   ]
  },
  {
   "cell_type": "code",
   "execution_count": 11,
   "id": "f3eddaec",
   "metadata": {
    "execution": {
     "iopub.execute_input": "2023-11-21T17:42:52.506572Z",
     "iopub.status.busy": "2023-11-21T17:42:52.506116Z",
     "iopub.status.idle": "2023-11-21T17:42:52.528863Z",
     "shell.execute_reply": "2023-11-21T17:42:52.527580Z"
    },
    "papermill": {
     "duration": 0.046425,
     "end_time": "2023-11-21T17:42:52.531568",
     "exception": false,
     "start_time": "2023-11-21T17:42:52.485143",
     "status": "completed"
    },
    "tags": []
   },
   "outputs": [
    {
     "data": {
      "text/html": [
       "<div>\n",
       "<style scoped>\n",
       "    .dataframe tbody tr th:only-of-type {\n",
       "        vertical-align: middle;\n",
       "    }\n",
       "\n",
       "    .dataframe tbody tr th {\n",
       "        vertical-align: top;\n",
       "    }\n",
       "\n",
       "    .dataframe thead th {\n",
       "        text-align: right;\n",
       "    }\n",
       "</style>\n",
       "<table border=\"1\" class=\"dataframe\">\n",
       "  <thead>\n",
       "    <tr style=\"text-align: right;\">\n",
       "      <th></th>\n",
       "      <th>G</th>\n",
       "      <th>C</th>\n",
       "      <th>B</th>\n",
       "      <th>A</th>\n",
       "      <th>Ia</th>\n",
       "      <th>Ib</th>\n",
       "      <th>Ic</th>\n",
       "      <th>Va</th>\n",
       "      <th>Vb</th>\n",
       "      <th>Vc</th>\n",
       "      <th>Fault_type</th>\n",
       "    </tr>\n",
       "  </thead>\n",
       "  <tbody>\n",
       "    <tr>\n",
       "      <th>4441</th>\n",
       "      <td>1</td>\n",
       "      <td>1</td>\n",
       "      <td>1</td>\n",
       "      <td>1</td>\n",
       "      <td>-639.566210</td>\n",
       "      <td>-200.770129</td>\n",
       "      <td>840.542382</td>\n",
       "      <td>-0.023864</td>\n",
       "      <td>0.028151</td>\n",
       "      <td>-0.004286</td>\n",
       "      <td>5</td>\n",
       "    </tr>\n",
       "    <tr>\n",
       "      <th>2244</th>\n",
       "      <td>1</td>\n",
       "      <td>0</td>\n",
       "      <td>1</td>\n",
       "      <td>1</td>\n",
       "      <td>302.720677</td>\n",
       "      <td>-31.378933</td>\n",
       "      <td>42.624220</td>\n",
       "      <td>0.336171</td>\n",
       "      <td>-0.606389</td>\n",
       "      <td>0.270219</td>\n",
       "      <td>2</td>\n",
       "    </tr>\n",
       "    <tr>\n",
       "      <th>2958</th>\n",
       "      <td>0</td>\n",
       "      <td>1</td>\n",
       "      <td>1</td>\n",
       "      <td>0</td>\n",
       "      <td>-50.619911</td>\n",
       "      <td>762.041349</td>\n",
       "      <td>-708.943505</td>\n",
       "      <td>0.035403</td>\n",
       "      <td>-0.013320</td>\n",
       "      <td>-0.022083</td>\n",
       "      <td>3</td>\n",
       "    </tr>\n",
       "    <tr>\n",
       "      <th>6548</th>\n",
       "      <td>0</td>\n",
       "      <td>0</td>\n",
       "      <td>0</td>\n",
       "      <td>0</td>\n",
       "      <td>-25.319071</td>\n",
       "      <td>95.494209</td>\n",
       "      <td>-73.428019</td>\n",
       "      <td>-0.618860</td>\n",
       "      <td>0.295970</td>\n",
       "      <td>0.322890</td>\n",
       "      <td>0</td>\n",
       "    </tr>\n",
       "    <tr>\n",
       "      <th>2901</th>\n",
       "      <td>0</td>\n",
       "      <td>1</td>\n",
       "      <td>1</td>\n",
       "      <td>0</td>\n",
       "      <td>-69.489164</td>\n",
       "      <td>331.174664</td>\n",
       "      <td>-259.324504</td>\n",
       "      <td>-0.372167</td>\n",
       "      <td>-0.039696</td>\n",
       "      <td>0.411864</td>\n",
       "      <td>3</td>\n",
       "    </tr>\n",
       "  </tbody>\n",
       "</table>\n",
       "</div>"
      ],
      "text/plain": [
       "      G  C  B  A          Ia          Ib          Ic        Va        Vb  \\\n",
       "4441  1  1  1  1 -639.566210 -200.770129  840.542382 -0.023864  0.028151   \n",
       "2244  1  0  1  1  302.720677  -31.378933   42.624220  0.336171 -0.606389   \n",
       "2958  0  1  1  0  -50.619911  762.041349 -708.943505  0.035403 -0.013320   \n",
       "6548  0  0  0  0  -25.319071   95.494209  -73.428019 -0.618860  0.295970   \n",
       "2901  0  1  1  0  -69.489164  331.174664 -259.324504 -0.372167 -0.039696   \n",
       "\n",
       "            Vc  Fault_type  \n",
       "4441 -0.004286           5  \n",
       "2244  0.270219           2  \n",
       "2958 -0.022083           3  \n",
       "6548  0.322890           0  \n",
       "2901  0.411864           3  "
      ]
     },
     "execution_count": 11,
     "metadata": {},
     "output_type": "execute_result"
    }
   ],
   "source": [
    "class_df.sample(5)"
   ]
  },
  {
   "cell_type": "code",
   "execution_count": 12,
   "id": "7b7ec4cd",
   "metadata": {
    "execution": {
     "iopub.execute_input": "2023-11-21T17:42:52.573924Z",
     "iopub.status.busy": "2023-11-21T17:42:52.573447Z",
     "iopub.status.idle": "2023-11-21T17:42:52.584419Z",
     "shell.execute_reply": "2023-11-21T17:42:52.582515Z"
    },
    "papermill": {
     "duration": 0.035384,
     "end_time": "2023-11-21T17:42:52.587315",
     "exception": false,
     "start_time": "2023-11-21T17:42:52.551931",
     "status": "completed"
    },
    "tags": []
   },
   "outputs": [
    {
     "data": {
      "text/plain": [
       "0    2365\n",
       "2    1134\n",
       "5    1133\n",
       "1    1129\n",
       "4    1096\n",
       "3    1004\n",
       "Name: Fault_type, dtype: int64"
      ]
     },
     "execution_count": 12,
     "metadata": {},
     "output_type": "execute_result"
    }
   ],
   "source": [
    "class_df['Fault_type'].value_counts()"
   ]
  },
  {
   "cell_type": "markdown",
   "id": "a8a96031",
   "metadata": {
    "papermill": {
     "duration": 0.01983,
     "end_time": "2023-11-21T17:42:52.627794",
     "exception": false,
     "start_time": "2023-11-21T17:42:52.607964",
     "status": "completed"
    },
    "tags": []
   },
   "source": [
    "# Creating the Dataset"
   ]
  },
  {
   "cell_type": "code",
   "execution_count": 13,
   "id": "b884445f",
   "metadata": {
    "execution": {
     "iopub.execute_input": "2023-11-21T17:42:52.670734Z",
     "iopub.status.busy": "2023-11-21T17:42:52.669299Z",
     "iopub.status.idle": "2023-11-21T17:42:52.677551Z",
     "shell.execute_reply": "2023-11-21T17:42:52.676199Z"
    },
    "papermill": {
     "duration": 0.032489,
     "end_time": "2023-11-21T17:42:52.680257",
     "exception": false,
     "start_time": "2023-11-21T17:42:52.647768",
     "status": "completed"
    },
    "tags": []
   },
   "outputs": [],
   "source": [
    "X = class_df.drop(['Fault_type','G','C','B','A'], axis=1)\n",
    "Y = class_df['Fault_type']"
   ]
  },
  {
   "cell_type": "markdown",
   "id": "c6ac2bad",
   "metadata": {
    "papermill": {
     "duration": 0.019559,
     "end_time": "2023-11-21T17:42:52.719960",
     "exception": false,
     "start_time": "2023-11-21T17:42:52.700401",
     "status": "completed"
    },
    "tags": []
   },
   "source": [
    "# Splitting the dataset into train and valid"
   ]
  },
  {
   "cell_type": "code",
   "execution_count": 14,
   "id": "444ccc1f",
   "metadata": {
    "execution": {
     "iopub.execute_input": "2023-11-21T17:42:52.761829Z",
     "iopub.status.busy": "2023-11-21T17:42:52.761311Z",
     "iopub.status.idle": "2023-11-21T17:42:52.981063Z",
     "shell.execute_reply": "2023-11-21T17:42:52.980036Z"
    },
    "papermill": {
     "duration": 0.245188,
     "end_time": "2023-11-21T17:42:52.985118",
     "exception": false,
     "start_time": "2023-11-21T17:42:52.739930",
     "status": "completed"
    },
    "tags": []
   },
   "outputs": [],
   "source": [
    "from sklearn.model_selection import train_test_split\n",
    "from sklearn.metrics import accuracy_score,classification_report,confusion_matrix,plot_confusion_matrix,ConfusionMatrixDisplay"
   ]
  },
  {
   "cell_type": "code",
   "execution_count": 15,
   "id": "9fc1d7ed",
   "metadata": {
    "execution": {
     "iopub.execute_input": "2023-11-21T17:42:53.029585Z",
     "iopub.status.busy": "2023-11-21T17:42:53.029076Z",
     "iopub.status.idle": "2023-11-21T17:42:53.039497Z",
     "shell.execute_reply": "2023-11-21T17:42:53.038558Z"
    },
    "papermill": {
     "duration": 0.034777,
     "end_time": "2023-11-21T17:42:53.042142",
     "exception": false,
     "start_time": "2023-11-21T17:42:53.007365",
     "status": "completed"
    },
    "tags": []
   },
   "outputs": [],
   "source": [
    "X_train, X_val, Y_train, Y_val = train_test_split(X, Y, test_size=.2, random_state = 41)"
   ]
  },
  {
   "cell_type": "markdown",
   "id": "25fe6ced",
   "metadata": {
    "papermill": {
     "duration": 0.019289,
     "end_time": "2023-11-21T17:42:53.081927",
     "exception": false,
     "start_time": "2023-11-21T17:42:53.062638",
     "status": "completed"
    },
    "tags": []
   },
   "source": [
    "# Model Building"
   ]
  },
  {
   "cell_type": "markdown",
   "id": "32add66b",
   "metadata": {
    "papermill": {
     "duration": 0.020697,
     "end_time": "2023-11-21T17:42:53.122746",
     "exception": false,
     "start_time": "2023-11-21T17:42:53.102049",
     "status": "completed"
    },
    "tags": []
   },
   "source": [
    "# **Decision-Tree-Classifier**"
   ]
  },
  {
   "cell_type": "code",
   "execution_count": 16,
   "id": "d1340d07",
   "metadata": {
    "execution": {
     "iopub.execute_input": "2023-11-21T17:42:53.166678Z",
     "iopub.status.busy": "2023-11-21T17:42:53.165964Z",
     "iopub.status.idle": "2023-11-21T17:42:53.181495Z",
     "shell.execute_reply": "2023-11-21T17:42:53.180279Z"
    },
    "papermill": {
     "duration": 0.040801,
     "end_time": "2023-11-21T17:42:53.184590",
     "exception": false,
     "start_time": "2023-11-21T17:42:53.143789",
     "status": "completed"
    },
    "tags": []
   },
   "outputs": [
    {
     "data": {
      "text/html": [
       "<div>\n",
       "<style scoped>\n",
       "    .dataframe tbody tr th:only-of-type {\n",
       "        vertical-align: middle;\n",
       "    }\n",
       "\n",
       "    .dataframe tbody tr th {\n",
       "        vertical-align: top;\n",
       "    }\n",
       "\n",
       "    .dataframe thead th {\n",
       "        text-align: right;\n",
       "    }\n",
       "</style>\n",
       "<table border=\"1\" class=\"dataframe\">\n",
       "  <thead>\n",
       "    <tr style=\"text-align: right;\">\n",
       "      <th></th>\n",
       "      <th>Ia</th>\n",
       "      <th>Ib</th>\n",
       "      <th>Ic</th>\n",
       "      <th>Va</th>\n",
       "      <th>Vb</th>\n",
       "      <th>Vc</th>\n",
       "    </tr>\n",
       "  </thead>\n",
       "  <tbody>\n",
       "    <tr>\n",
       "      <th>1397</th>\n",
       "      <td>769.263106</td>\n",
       "      <td>-41.206154</td>\n",
       "      <td>38.296864</td>\n",
       "      <td>0.035077</td>\n",
       "      <td>-0.370247</td>\n",
       "      <td>0.335170</td>\n",
       "    </tr>\n",
       "    <tr>\n",
       "      <th>5110</th>\n",
       "      <td>-141.272523</td>\n",
       "      <td>825.770930</td>\n",
       "      <td>-684.500671</td>\n",
       "      <td>0.033866</td>\n",
       "      <td>0.005094</td>\n",
       "      <td>-0.038961</td>\n",
       "    </tr>\n",
       "    <tr>\n",
       "      <th>3106</th>\n",
       "      <td>56.936190</td>\n",
       "      <td>-377.065285</td>\n",
       "      <td>322.691658</td>\n",
       "      <td>0.336959</td>\n",
       "      <td>0.038450</td>\n",
       "      <td>-0.375408</td>\n",
       "    </tr>\n",
       "    <tr>\n",
       "      <th>4318</th>\n",
       "      <td>558.925342</td>\n",
       "      <td>-564.131265</td>\n",
       "      <td>7.336038</td>\n",
       "      <td>0.027458</td>\n",
       "      <td>-0.476219</td>\n",
       "      <td>0.448761</td>\n",
       "    </tr>\n",
       "    <tr>\n",
       "      <th>7074</th>\n",
       "      <td>-57.746609</td>\n",
       "      <td>22.933011</td>\n",
       "      <td>31.721065</td>\n",
       "      <td>0.255658</td>\n",
       "      <td>-0.585469</td>\n",
       "      <td>0.329811</td>\n",
       "    </tr>\n",
       "  </tbody>\n",
       "</table>\n",
       "</div>"
      ],
      "text/plain": [
       "              Ia          Ib          Ic        Va        Vb        Vc\n",
       "1397  769.263106  -41.206154   38.296864  0.035077 -0.370247  0.335170\n",
       "5110 -141.272523  825.770930 -684.500671  0.033866  0.005094 -0.038961\n",
       "3106   56.936190 -377.065285  322.691658  0.336959  0.038450 -0.375408\n",
       "4318  558.925342 -564.131265    7.336038  0.027458 -0.476219  0.448761\n",
       "7074  -57.746609   22.933011   31.721065  0.255658 -0.585469  0.329811"
      ]
     },
     "execution_count": 16,
     "metadata": {},
     "output_type": "execute_result"
    }
   ],
   "source": [
    "X_train.head()"
   ]
  },
  {
   "cell_type": "code",
   "execution_count": 17,
   "id": "cb547203",
   "metadata": {
    "execution": {
     "iopub.execute_input": "2023-11-21T17:42:53.228307Z",
     "iopub.status.busy": "2023-11-21T17:42:53.227799Z",
     "iopub.status.idle": "2023-11-21T17:42:53.967104Z",
     "shell.execute_reply": "2023-11-21T17:42:53.965897Z"
    },
    "papermill": {
     "duration": 0.764414,
     "end_time": "2023-11-21T17:42:53.969735",
     "exception": false,
     "start_time": "2023-11-21T17:42:53.205321",
     "status": "completed"
    },
    "tags": []
   },
   "outputs": [
    {
     "name": "stdout",
     "output_type": "stream",
     "text": [
      "Accuracy of the Training dataset is :  100.0 %\n",
      "Accuracy of the validation dataset is :  88.55689764780675 %\n"
     ]
    },
    {
     "data": {
      "text/plain": [
       "<sklearn.metrics._plot.confusion_matrix.ConfusionMatrixDisplay at 0x7d3ad9c28450>"
      ]
     },
     "execution_count": 17,
     "metadata": {},
     "output_type": "execute_result"
    },
    {
     "data": {
      "image/png": "[encoded data removed]",
      "text/plain": [
       "<Figure size 432x288 with 2 Axes>"
      ]
     },
     "metadata": {
      "needs_background": "light"
     },
     "output_type": "display_data"
    }
   ],
   "source": [
    "from sklearn.tree import DecisionTreeClassifier\n",
    "from sklearn.metrics import plot_confusion_matrix\n",
    "model_1 = DecisionTreeClassifier(criterion='entropy',splitter='best')\n",
    "model_1.fit(X_train,Y_train)\n",
    "\n",
    "\n",
    "#training acuracy\n",
    "predicts_t1 = model_1.predict(X_train)\n",
    "accuracy_t1 = (predicts_t1==Y_train).sum() / len(Y_train)\n",
    "print('Accuracy of the Training dataset is : ',accuracy_t1*100,'%')\n",
    "\n",
    "#validation accuracy\n",
    "predicts_1 = model_1.predict(X_val)\n",
    "accuracy_1 = (predicts_1==Y_val).sum() / len(Y_val)\n",
    "print('Accuracy of the validation dataset is : ',accuracy_1*100,'%')\n",
    "\n",
    "# Confusion Matrix\n",
    "conf_mat_1 = confusion_matrix(predicts_1,Y_val)\n",
    "disp = ConfusionMatrixDisplay(conf_mat_1,display_labels=classes)\n",
    "disp.plot()"
   ]
  },
  {
   "cell_type": "code",
   "execution_count": 18,
   "id": "cce7822c",
   "metadata": {
    "execution": {
     "iopub.execute_input": "2023-11-21T17:42:54.015147Z",
     "iopub.status.busy": "2023-11-21T17:42:54.014605Z",
     "iopub.status.idle": "2023-11-21T17:42:54.413311Z",
     "shell.execute_reply": "2023-11-21T17:42:54.411946Z"
    },
    "papermill": {
     "duration": 0.424846,
     "end_time": "2023-11-21T17:42:54.416278",
     "exception": false,
     "start_time": "2023-11-21T17:42:53.991432",
     "status": "completed"
    },
    "tags": []
   },
   "outputs": [
    {
     "data": {
      "image/png": "[encoded data removed]",
      "text/plain": [
       "<Figure size 432x288 with 2 Axes>"
      ]
     },
     "metadata": {
      "needs_background": "light"
     },
     "output_type": "display_data"
    }
   ],
   "source": [
    "matrix_plt = plot_confusion_matrix(model_1,X_val,Y_val)"
   ]
  },
  {
   "cell_type": "code",
   "execution_count": 19,
   "id": "8bfb9456",
   "metadata": {
    "execution": {
     "iopub.execute_input": "2023-11-21T17:42:54.461038Z",
     "iopub.status.busy": "2023-11-21T17:42:54.460521Z",
     "iopub.status.idle": "2023-11-21T17:44:02.986268Z",
     "shell.execute_reply": "2023-11-21T17:44:02.984626Z"
    },
    "papermill": {
     "duration": 68.581376,
     "end_time": "2023-11-21T17:44:03.019338",
     "exception": false,
     "start_time": "2023-11-21T17:42:54.437962",
     "status": "completed"
    },
    "tags": []
   },
   "outputs": [
    {
     "data": {
      "image/png": "[encoded data removed]",
      "text/plain": [
       "<Figure size 1800x1440 with 1 Axes>"
      ]
     },
     "metadata": {
      "needs_background": "light"
     },
     "output_type": "display_data"
    }
   ],
   "source": [
    "from sklearn import tree\n",
    "fig = plt.figure(figsize=(25,20))\n",
    "_ = tree.plot_tree(model_1, \n",
    "                   feature_names=X_train.columns,  \n",
    "                   class_names={0:'No_Fault', 1: 'LG', 2:'LLG',3:'LL',4:'LLL',5:'LLG'},\n",
    "                   filled=True)"
   ]
  },
  {
   "cell_type": "code",
   "execution_count": 20,
   "id": "e1284714",
   "metadata": {
    "execution": {
     "iopub.execute_input": "2023-11-21T17:44:03.073057Z",
     "iopub.status.busy": "2023-11-21T17:44:03.072551Z",
     "iopub.status.idle": "2023-11-21T17:44:18.451699Z",
     "shell.execute_reply": "2023-11-21T17:44:18.449849Z"
    },
    "papermill": {
     "duration": 15.410295,
     "end_time": "2023-11-21T17:44:18.455055",
     "exception": false,
     "start_time": "2023-11-21T17:44:03.044760",
     "status": "completed"
    },
    "tags": []
   },
   "outputs": [],
   "source": [
    "fig.savefig(\"decistion_tree_depth_3.png\")"
   ]
  },
  {
   "cell_type": "markdown",
   "id": "6bfc6749",
   "metadata": {
    "papermill": {
     "duration": 0.025307,
     "end_time": "2023-11-21T17:44:18.505210",
     "exception": false,
     "start_time": "2023-11-21T17:44:18.479903",
     "status": "completed"
    },
    "tags": []
   },
   "source": [
    "# **Inferance**"
   ]
  },
  {
   "cell_type": "markdown",
   "id": "f057b8c0",
   "metadata": {
    "papermill": {
     "duration": 0.025213,
     "end_time": "2023-11-21T17:44:18.555778",
     "exception": false,
     "start_time": "2023-11-21T17:44:18.530565",
     "status": "completed"
    },
    "tags": []
   },
   "source": [
    "Dictonray fo fault types"
   ]
  },
  {
   "cell_type": "code",
   "execution_count": 21,
   "id": "397ec44f",
   "metadata": {
    "execution": {
     "iopub.execute_input": "2023-11-21T17:44:18.608148Z",
     "iopub.status.busy": "2023-11-21T17:44:18.607609Z",
     "iopub.status.idle": "2023-11-21T17:44:18.613957Z",
     "shell.execute_reply": "2023-11-21T17:44:18.612754Z"
    },
    "papermill": {
     "duration": 0.036183,
     "end_time": "2023-11-21T17:44:18.616836",
     "exception": false,
     "start_time": "2023-11-21T17:44:18.580653",
     "status": "completed"
    },
    "tags": []
   },
   "outputs": [],
   "source": [
    "Fault_type = {0:'No Fault',\n",
    "              1:'LG Fault',\n",
    "              2:'LLG Fault',\n",
    "              3:'LL Fault',\n",
    "              4:'LLL Fault',\n",
    "              5:'LLLG Fault' }"
   ]
  },
  {
   "cell_type": "markdown",
   "id": "d2e32343",
   "metadata": {
    "papermill": {
     "duration": 0.02506,
     "end_time": "2023-11-21T17:44:18.666796",
     "exception": false,
     "start_time": "2023-11-21T17:44:18.641736",
     "status": "completed"
    },
    "tags": []
   },
   "source": [
    "# This function will take a test dataframe or a single test data and return the predictions of the model"
   ]
  },
  {
   "cell_type": "code",
   "execution_count": 22,
   "id": "db2bb415",
   "metadata": {
    "execution": {
     "iopub.execute_input": "2023-11-21T17:44:18.719588Z",
     "iopub.status.busy": "2023-11-21T17:44:18.719089Z",
     "iopub.status.idle": "2023-11-21T17:44:18.728278Z",
     "shell.execute_reply": "2023-11-21T17:44:18.726776Z"
    },
    "papermill": {
     "duration": 0.038953,
     "end_time": "2023-11-21T17:44:18.731205",
     "exception": false,
     "start_time": "2023-11-21T17:44:18.692252",
     "status": "completed"
    },
    "tags": []
   },
   "outputs": [],
   "source": [
    "def inferance(test_input,model):\n",
    "    st = type(test_input)\n",
    "    \n",
    "    if st==type(pd.DataFrame([[0]])):\n",
    "        \n",
    "        df = test_input\n",
    "        p = model.predict(test_data)\n",
    "    else:\n",
    "        df = pd.DataFrame([[test_input[0],test_input[1],test_input[2],test_input[3],test_input[4],test_input[5]]],columns=['Ia','Ib','Ic','Va','Vb',\"Vc\"])\n",
    "        p = model.predict([test_data])\n",
    "    \n",
    "    \n",
    "    return p"
   ]
  },
  {
   "cell_type": "code",
   "execution_count": 23,
   "id": "39e4e67e",
   "metadata": {
    "execution": {
     "iopub.execute_input": "2023-11-21T17:44:18.784934Z",
     "iopub.status.busy": "2023-11-21T17:44:18.784396Z",
     "iopub.status.idle": "2023-11-21T17:44:18.795387Z",
     "shell.execute_reply": "2023-11-21T17:44:18.794517Z"
    },
    "papermill": {
     "duration": 0.041363,
     "end_time": "2023-11-21T17:44:18.798383",
     "exception": false,
     "start_time": "2023-11-21T17:44:18.757020",
     "status": "completed"
    },
    "tags": []
   },
   "outputs": [
    {
     "name": "stdout",
     "output_type": "stream",
     "text": [
      "--------------------------Predicted Fault type---------------------------------\n",
      "--- LLLG Fault ---\n",
      "--- LG Fault ---\n",
      "--- No Fault ---\n",
      "--- LLLG Fault ---\n",
      "--- LLL Fault ---\n",
      "--- No Fault ---\n",
      "--- No Fault ---\n",
      "--- No Fault ---\n",
      "--- LG Fault ---\n",
      "--- LG Fault ---\n",
      "--- LLL Fault ---\n",
      "--- LL Fault ---\n",
      "--- LLG Fault ---\n",
      "--- LL Fault ---\n",
      "--- No Fault ---\n",
      "--- LLLG Fault ---\n",
      "--- LLL Fault ---\n",
      "--- LG Fault ---\n",
      "--- No Fault ---\n",
      "--- No Fault ---\n"
     ]
    }
   ],
   "source": [
    "# the test data\n",
    "test_data = X_val.iloc[1000:1020]\n",
    "\n",
    "print('--------------------------Predicted Fault type---------------------------------')\n",
    "predictions = inferance(test_data,model_1)\n",
    "for p in predictions:\n",
    "    print('---',Fault_type[p.item()],'---')\n",
    "    \n",
    "    \n",
    "# print('\\n--------------------------Actual Fault type---------------------------------')\n",
    "\n",
    "# # Actual predictions\n",
    "# if type(test_data)==type(pd.DataFrame([[0]])):\n",
    "#     for ind in test_data.index:\n",
    "#         i = class_df['Fault_type'][ind]\n",
    "#         print(i,'---------------------------------',Fault_type[i.item()])"
   ]
  },
  {
   "cell_type": "markdown",
   "id": "6a2a2e17",
   "metadata": {
    "papermill": {
     "duration": 0.024629,
     "end_time": "2023-11-21T17:44:18.848116",
     "exception": false,
     "start_time": "2023-11-21T17:44:18.823487",
     "status": "completed"
    },
    "tags": []
   },
   "source": [
    "# Training with Feed Forward Neural Network"
   ]
  },
  {
   "cell_type": "code",
   "execution_count": 24,
   "id": "5cd08353",
   "metadata": {
    "execution": {
     "iopub.execute_input": "2023-11-21T17:44:18.901854Z",
     "iopub.status.busy": "2023-11-21T17:44:18.901038Z",
     "iopub.status.idle": "2023-11-21T17:44:18.906109Z",
     "shell.execute_reply": "2023-11-21T17:44:18.904975Z"
    },
    "papermill": {
     "duration": 0.035108,
     "end_time": "2023-11-21T17:44:18.908728",
     "exception": false,
     "start_time": "2023-11-21T17:44:18.873620",
     "status": "completed"
    },
    "tags": []
   },
   "outputs": [],
   "source": [
    "# import torch\n",
    "# import torch.nn as nn\n",
    "# import torch.nn.functional as F\n",
    "# from torch.utils.data import DataLoader,Dataset"
   ]
  },
  {
   "cell_type": "code",
   "execution_count": 25,
   "id": "1b74de88",
   "metadata": {
    "execution": {
     "iopub.execute_input": "2023-11-21T17:44:18.961866Z",
     "iopub.status.busy": "2023-11-21T17:44:18.961312Z",
     "iopub.status.idle": "2023-11-21T17:44:18.968282Z",
     "shell.execute_reply": "2023-11-21T17:44:18.966957Z"
    },
    "papermill": {
     "duration": 0.036543,
     "end_time": "2023-11-21T17:44:18.971035",
     "exception": false,
     "start_time": "2023-11-21T17:44:18.934492",
     "status": "completed"
    },
    "tags": []
   },
   "outputs": [],
   "source": [
    "# class NNmodel(nn.Module):\n",
    "#     def __init__(self):\n",
    "#         super().__init__()\n",
    "#         self.fc1 = nn.Linear(6,128)\n",
    "#         self.fc2 = nn.Linear(128,256)\n",
    "#         self.fc3 = nn.Linear(256,512)\n",
    "#         self.fc4 = nn.Linear(512,1024)\n",
    "#         self.fc5 = nn.Linear(1024,512)\n",
    "#         self.fc6 = nn.Linear(512,128)\n",
    "#         self.fc7 = nn.Linear(128,6)\n",
    "        \n",
    "#     def forward(self,x):\n",
    "# #         print(x.shape)\n",
    "#         x1 = F.relu(self.fc2(F.relu(self.fc1(x))))\n",
    "# #         print(x1.shape)\n",
    "#         x2 = F.relu(self.fc4(F.relu(self.fc3(x1))))\n",
    "# #         print(x2.shape)\n",
    "#         x3 = F.relu(self.fc6(F.relu(self.fc5(x2))))\n",
    "# #         print(x3.shape)\n",
    "#         x4 = self.fc7(x3)\n",
    "# #         print(x4.shape)\n",
    "        \n",
    "#         return x4\n",
    "\n",
    "        "
   ]
  },
  {
   "cell_type": "code",
   "execution_count": 26,
   "id": "c52c4ff4",
   "metadata": {
    "execution": {
     "iopub.execute_input": "2023-11-21T17:44:19.025945Z",
     "iopub.status.busy": "2023-11-21T17:44:19.025402Z",
     "iopub.status.idle": "2023-11-21T17:44:19.030622Z",
     "shell.execute_reply": "2023-11-21T17:44:19.029426Z"
    },
    "papermill": {
     "duration": 0.036846,
     "end_time": "2023-11-21T17:44:19.033702",
     "exception": false,
     "start_time": "2023-11-21T17:44:18.996856",
     "status": "completed"
    },
    "tags": []
   },
   "outputs": [],
   "source": [
    "# train_x = X_train.reset_index(drop=True)\n",
    "# train_y = Y_train.reset_index(drop=True)\n",
    "# val_x = X_val.reset_index(drop=True)\n",
    "# val_y = Y_val.reset_index(drop=True)"
   ]
  },
  {
   "cell_type": "code",
   "execution_count": 27,
   "id": "35ca6b19",
   "metadata": {
    "execution": {
     "iopub.execute_input": "2023-11-21T17:44:19.087370Z",
     "iopub.status.busy": "2023-11-21T17:44:19.086904Z",
     "iopub.status.idle": "2023-11-21T17:44:19.092388Z",
     "shell.execute_reply": "2023-11-21T17:44:19.091078Z"
    },
    "papermill": {
     "duration": 0.035892,
     "end_time": "2023-11-21T17:44:19.095206",
     "exception": false,
     "start_time": "2023-11-21T17:44:19.059314",
     "status": "completed"
    },
    "tags": []
   },
   "outputs": [],
   "source": [
    "# train_x.head()"
   ]
  },
  {
   "cell_type": "code",
   "execution_count": 28,
   "id": "e939ff5a",
   "metadata": {
    "execution": {
     "iopub.execute_input": "2023-11-21T17:44:19.149551Z",
     "iopub.status.busy": "2023-11-21T17:44:19.148185Z",
     "iopub.status.idle": "2023-11-21T17:44:19.153991Z",
     "shell.execute_reply": "2023-11-21T17:44:19.152784Z"
    },
    "papermill": {
     "duration": 0.036428,
     "end_time": "2023-11-21T17:44:19.156816",
     "exception": false,
     "start_time": "2023-11-21T17:44:19.120388",
     "status": "completed"
    },
    "tags": []
   },
   "outputs": [],
   "source": [
    "# X_train.reset_index(drop=True).head()"
   ]
  },
  {
   "cell_type": "code",
   "execution_count": 29,
   "id": "0c20f4c0",
   "metadata": {
    "execution": {
     "iopub.execute_input": "2023-11-21T17:44:19.209935Z",
     "iopub.status.busy": "2023-11-21T17:44:19.209502Z",
     "iopub.status.idle": "2023-11-21T17:44:19.215428Z",
     "shell.execute_reply": "2023-11-21T17:44:19.214083Z"
    },
    "papermill": {
     "duration": 0.036012,
     "end_time": "2023-11-21T17:44:19.218555",
     "exception": false,
     "start_time": "2023-11-21T17:44:19.182543",
     "status": "completed"
    },
    "tags": []
   },
   "outputs": [],
   "source": [
    "# Y_train.head()"
   ]
  },
  {
   "cell_type": "code",
   "execution_count": 30,
   "id": "9a0a421b",
   "metadata": {
    "execution": {
     "iopub.execute_input": "2023-11-21T17:44:19.271983Z",
     "iopub.status.busy": "2023-11-21T17:44:19.271529Z",
     "iopub.status.idle": "2023-11-21T17:44:19.276424Z",
     "shell.execute_reply": "2023-11-21T17:44:19.275209Z"
    },
    "papermill": {
     "duration": 0.035763,
     "end_time": "2023-11-21T17:44:19.279696",
     "exception": false,
     "start_time": "2023-11-21T17:44:19.243933",
     "status": "completed"
    },
    "tags": []
   },
   "outputs": [],
   "source": [
    "# Y_train.reset_index(drop=True)"
   ]
  },
  {
   "cell_type": "code",
   "execution_count": 31,
   "id": "60269fb6",
   "metadata": {
    "execution": {
     "iopub.execute_input": "2023-11-21T17:44:19.334442Z",
     "iopub.status.busy": "2023-11-21T17:44:19.333636Z",
     "iopub.status.idle": "2023-11-21T17:44:19.339081Z",
     "shell.execute_reply": "2023-11-21T17:44:19.338198Z"
    },
    "papermill": {
     "duration": 0.036192,
     "end_time": "2023-11-21T17:44:19.341638",
     "exception": false,
     "start_time": "2023-11-21T17:44:19.305446",
     "status": "completed"
    },
    "tags": []
   },
   "outputs": [],
   "source": [
    "# class FaultDataset(Dataset):\n",
    "#     def __init__(self,df,label):\n",
    "#         super().__init__()\n",
    "#         self.df = df#.reset_index(drop=True)\n",
    "#         self.label = label#.reset_index(drop=True)\n",
    "        \n",
    "#     def get_item(self,index):\n",
    "#         data = torch.tensor(X_train.iloc[index].tolist())\n",
    "#         label = torch.tensor(self.label[index])\n",
    "#         return [data, label]\n",
    "    \n",
    "#     def __len__(self):\n",
    "#         return len(self.df)"
   ]
  },
  {
   "cell_type": "code",
   "execution_count": 32,
   "id": "16f4eb12",
   "metadata": {
    "execution": {
     "iopub.execute_input": "2023-11-21T17:44:19.396202Z",
     "iopub.status.busy": "2023-11-21T17:44:19.395212Z",
     "iopub.status.idle": "2023-11-21T17:44:19.400580Z",
     "shell.execute_reply": "2023-11-21T17:44:19.399382Z"
    },
    "papermill": {
     "duration": 0.035035,
     "end_time": "2023-11-21T17:44:19.403060",
     "exception": false,
     "start_time": "2023-11-21T17:44:19.368025",
     "status": "completed"
    },
    "tags": []
   },
   "outputs": [],
   "source": [
    "# type(FaultDataset(train_x,train_y).get_item(6284)[0])"
   ]
  },
  {
   "cell_type": "code",
   "execution_count": 33,
   "id": "07185f38",
   "metadata": {
    "execution": {
     "iopub.execute_input": "2023-11-21T17:44:19.455499Z",
     "iopub.status.busy": "2023-11-21T17:44:19.454664Z",
     "iopub.status.idle": "2023-11-21T17:44:19.459937Z",
     "shell.execute_reply": "2023-11-21T17:44:19.458762Z"
    },
    "papermill": {
     "duration": 0.035009,
     "end_time": "2023-11-21T17:44:19.462731",
     "exception": false,
     "start_time": "2023-11-21T17:44:19.427722",
     "status": "completed"
    },
    "tags": []
   },
   "outputs": [],
   "source": [
    "# train_dataset = FaultDataset(train_x,train_y)\n",
    "# val_dataset   = FaultDataset(val_x,val_y)"
   ]
  },
  {
   "cell_type": "code",
   "execution_count": 34,
   "id": "db5bb4bd",
   "metadata": {
    "execution": {
     "iopub.execute_input": "2023-11-21T17:44:19.515551Z",
     "iopub.status.busy": "2023-11-21T17:44:19.514163Z",
     "iopub.status.idle": "2023-11-21T17:44:19.520272Z",
     "shell.execute_reply": "2023-11-21T17:44:19.518914Z"
    },
    "papermill": {
     "duration": 0.035789,
     "end_time": "2023-11-21T17:44:19.523338",
     "exception": false,
     "start_time": "2023-11-21T17:44:19.487549",
     "status": "completed"
    },
    "tags": []
   },
   "outputs": [],
   "source": [
    "# train_dataset.__len__()"
   ]
  },
  {
   "cell_type": "code",
   "execution_count": 35,
   "id": "93dbcf12",
   "metadata": {
    "execution": {
     "iopub.execute_input": "2023-11-21T17:44:19.577603Z",
     "iopub.status.busy": "2023-11-21T17:44:19.576627Z",
     "iopub.status.idle": "2023-11-21T17:44:19.581757Z",
     "shell.execute_reply": "2023-11-21T17:44:19.580584Z"
    },
    "papermill": {
     "duration": 0.03584,
     "end_time": "2023-11-21T17:44:19.584848",
     "exception": false,
     "start_time": "2023-11-21T17:44:19.549008",
     "status": "completed"
    },
    "tags": []
   },
   "outputs": [],
   "source": [
    "# train_loader = DataLoader(train_dataset,batch_size=8,shuffle=False,num_workers=2)\n",
    "# val_loader = DataLoader(val_dataset,batch_size=8,shuffle=False,num_workers=2)"
   ]
  },
  {
   "cell_type": "code",
   "execution_count": 36,
   "id": "af4ec0d3",
   "metadata": {
    "execution": {
     "iopub.execute_input": "2023-11-21T17:44:19.638222Z",
     "iopub.status.busy": "2023-11-21T17:44:19.637701Z",
     "iopub.status.idle": "2023-11-21T17:44:19.649254Z",
     "shell.execute_reply": "2023-11-21T17:44:19.648007Z"
    },
    "papermill": {
     "duration": 0.042168,
     "end_time": "2023-11-21T17:44:19.652487",
     "exception": false,
     "start_time": "2023-11-21T17:44:19.610319",
     "status": "completed"
    },
    "tags": []
   },
   "outputs": [],
   "source": [
    "# class FaultDataloader():\n",
    "#     def __init__(self,dataset,batch_size):\n",
    "#         super().__init__()\n",
    "#         self.dataset = dataset\n",
    "#         self.batch_size = batch_size\n",
    "# #         start = 0\n",
    "# #         for i in range(int(dataset.__len__()/batch_size)):\n",
    "# #             #print(type(dataset.get_item(start)[0]))\n",
    "# #             data = torch.stack([dataset.get_item(start+j)[0] for j in range(7)])\n",
    "# #             label = torch.stack([dataset.get_item(start+j)[1] for j in range(7)])\n",
    "# #             start = start+7\n",
    "            \n",
    "# #             return [data,label]\n",
    "        \n",
    "#     def get_data(self):\n",
    "#         data = []\n",
    "#         label = []\n",
    "#         start = 0\n",
    "#         for i in range(int(self.dataset.__len__()/self.batch_size)):\n",
    "#             #print(type(dataset.get_item(start)[0]))\n",
    "#             temp_data = torch.stack([self.dataset.get_item(start+j)[0] for j in range(8)])\n",
    "#             temp_label = torch.stack([self.dataset.get_item(start+j)[1] for j in range(8)])\n",
    "#             start = start+8\n",
    "#             data.append(temp_data)\n",
    "#             label.append(temp_label)\n",
    "#         return [torch.stack(data), torch.stack(label)]"
   ]
  },
  {
   "cell_type": "code",
   "execution_count": 37,
   "id": "f804174d",
   "metadata": {
    "execution": {
     "iopub.execute_input": "2023-11-21T17:44:19.706294Z",
     "iopub.status.busy": "2023-11-21T17:44:19.705797Z",
     "iopub.status.idle": "2023-11-21T17:44:19.710620Z",
     "shell.execute_reply": "2023-11-21T17:44:19.709451Z"
    },
    "papermill": {
     "duration": 0.03578,
     "end_time": "2023-11-21T17:44:19.713336",
     "exception": false,
     "start_time": "2023-11-21T17:44:19.677556",
     "status": "completed"
    },
    "tags": []
   },
   "outputs": [],
   "source": [
    "# train_loader = FaultDataloader(train_dataset,batch_size=8)\n",
    "# val_loader = FaultDataloader(val_dataset,batch_size=8)"
   ]
  },
  {
   "cell_type": "code",
   "execution_count": 38,
   "id": "0eb2bed1",
   "metadata": {
    "execution": {
     "iopub.execute_input": "2023-11-21T17:44:19.767367Z",
     "iopub.status.busy": "2023-11-21T17:44:19.766422Z",
     "iopub.status.idle": "2023-11-21T17:44:19.772154Z",
     "shell.execute_reply": "2023-11-21T17:44:19.771111Z"
    },
    "papermill": {
     "duration": 0.036196,
     "end_time": "2023-11-21T17:44:19.774741",
     "exception": false,
     "start_time": "2023-11-21T17:44:19.738545",
     "status": "completed"
    },
    "tags": []
   },
   "outputs": [],
   "source": [
    "# data_train , label_train = train_loader.get_data()\n",
    "\n",
    "# data_val , label_val = val_loader.get_data()"
   ]
  },
  {
   "cell_type": "code",
   "execution_count": null,
   "id": "cf48b30b",
   "metadata": {
    "papermill": {
     "duration": 0.025623,
     "end_time": "2023-11-21T17:44:19.826239",
     "exception": false,
     "start_time": "2023-11-21T17:44:19.800616",
     "status": "completed"
    },
    "tags": []
   },
   "outputs": [],
   "source": []
  },
  {
   "cell_type": "code",
   "execution_count": 39,
   "id": "50024358",
   "metadata": {
    "execution": {
     "iopub.execute_input": "2023-11-21T17:44:19.880368Z",
     "iopub.status.busy": "2023-11-21T17:44:19.878834Z",
     "iopub.status.idle": "2023-11-21T17:44:19.884152Z",
     "shell.execute_reply": "2023-11-21T17:44:19.883288Z"
    },
    "papermill": {
     "duration": 0.035421,
     "end_time": "2023-11-21T17:44:19.886617",
     "exception": false,
     "start_time": "2023-11-21T17:44:19.851196",
     "status": "completed"
    },
    "tags": []
   },
   "outputs": [],
   "source": [
    "# from tqdm.notebook import tqdm"
   ]
  },
  {
   "cell_type": "code",
   "execution_count": 40,
   "id": "02ee551d",
   "metadata": {
    "execution": {
     "iopub.execute_input": "2023-11-21T17:44:19.940029Z",
     "iopub.status.busy": "2023-11-21T17:44:19.939149Z",
     "iopub.status.idle": "2023-11-21T17:44:19.945665Z",
     "shell.execute_reply": "2023-11-21T17:44:19.944338Z"
    },
    "papermill": {
     "duration": 0.036223,
     "end_time": "2023-11-21T17:44:19.948425",
     "exception": false,
     "start_time": "2023-11-21T17:44:19.912202",
     "status": "completed"
    },
    "tags": []
   },
   "outputs": [],
   "source": [
    "# device = torch.device('cuda' if torch.cuda.is_available() else 'cpu')"
   ]
  },
  {
   "cell_type": "code",
   "execution_count": 41,
   "id": "ade77f9a",
   "metadata": {
    "execution": {
     "iopub.execute_input": "2023-11-21T17:44:20.001771Z",
     "iopub.status.busy": "2023-11-21T17:44:20.000958Z",
     "iopub.status.idle": "2023-11-21T17:44:20.006729Z",
     "shell.execute_reply": "2023-11-21T17:44:20.005428Z"
    },
    "papermill": {
     "duration": 0.035464,
     "end_time": "2023-11-21T17:44:20.009503",
     "exception": false,
     "start_time": "2023-11-21T17:44:19.974039",
     "status": "completed"
    },
    "tags": []
   },
   "outputs": [],
   "source": [
    "# model = NNmodel()\n",
    "# model = model.to(device)\n",
    "# criterion = nn.CrossEntropyLoss()\n",
    "# optimizer = torch.optim.SGD(model.parameters(),lr = .01)"
   ]
  },
  {
   "cell_type": "code",
   "execution_count": 42,
   "id": "88372626",
   "metadata": {
    "execution": {
     "iopub.execute_input": "2023-11-21T17:44:20.063083Z",
     "iopub.status.busy": "2023-11-21T17:44:20.062600Z",
     "iopub.status.idle": "2023-11-21T17:44:20.068381Z",
     "shell.execute_reply": "2023-11-21T17:44:20.066811Z"
    },
    "papermill": {
     "duration": 0.036312,
     "end_time": "2023-11-21T17:44:20.071122",
     "exception": false,
     "start_time": "2023-11-21T17:44:20.034810",
     "status": "completed"
    },
    "tags": []
   },
   "outputs": [],
   "source": [
    "# model"
   ]
  },
  {
   "cell_type": "code",
   "execution_count": 43,
   "id": "48cfe354",
   "metadata": {
    "execution": {
     "iopub.execute_input": "2023-11-21T17:44:20.123990Z",
     "iopub.status.busy": "2023-11-21T17:44:20.123473Z",
     "iopub.status.idle": "2023-11-21T17:44:20.129669Z",
     "shell.execute_reply": "2023-11-21T17:44:20.128243Z"
    },
    "papermill": {
     "duration": 0.03613,
     "end_time": "2023-11-21T17:44:20.132535",
     "exception": false,
     "start_time": "2023-11-21T17:44:20.096405",
     "status": "completed"
    },
    "tags": []
   },
   "outputs": [],
   "source": [
    "# a = nn.functional.normalize(data_train[1],p=1,dim=1)\n",
    "# ouput = model(a)\n",
    "\n",
    "\n",
    "# print(torch.max(nn.functional.softmax(ouput),1))\n",
    "# print(label_train[1])\n",
    "\n",
    "# print(criterion(ouput,label_train[1]))"
   ]
  },
  {
   "cell_type": "code",
   "execution_count": 44,
   "id": "1dfd4d02",
   "metadata": {
    "execution": {
     "iopub.execute_input": "2023-11-21T17:44:20.187006Z",
     "iopub.status.busy": "2023-11-21T17:44:20.185716Z",
     "iopub.status.idle": "2023-11-21T17:44:20.191333Z",
     "shell.execute_reply": "2023-11-21T17:44:20.190203Z"
    },
    "papermill": {
     "duration": 0.035623,
     "end_time": "2023-11-21T17:44:20.194262",
     "exception": false,
     "start_time": "2023-11-21T17:44:20.158639",
     "status": "completed"
    },
    "tags": []
   },
   "outputs": [],
   "source": [
    "# num_epochs = 20"
   ]
  },
  {
   "cell_type": "code",
   "execution_count": 45,
   "id": "aa6bdf1f",
   "metadata": {
    "execution": {
     "iopub.execute_input": "2023-11-21T17:44:20.248348Z",
     "iopub.status.busy": "2023-11-21T17:44:20.247848Z",
     "iopub.status.idle": "2023-11-21T17:44:20.253666Z",
     "shell.execute_reply": "2023-11-21T17:44:20.252416Z"
    },
    "papermill": {
     "duration": 0.036419,
     "end_time": "2023-11-21T17:44:20.256236",
     "exception": false,
     "start_time": "2023-11-21T17:44:20.219817",
     "status": "completed"
    },
    "tags": []
   },
   "outputs": [],
   "source": [
    "# for epoch in range(num_epochs):\n",
    "#     for i in tqdm(range(len(data_train))):\n",
    "#         data = nn.functional.normalize(data_train[i]).to(device)\n",
    "#         label = label_train[i].to(device)\n",
    "\n",
    "#         #forward pass\n",
    "#         outputs = model(data)\n",
    "# #         _, labels = torch.max(targets, dim=1)\n",
    "#         loss = criterion(outputs,label)\n",
    "\n",
    "#         #back pass\n",
    "#         optimizer.zero_grad()\n",
    "#         loss.backward()\n",
    "#         optimizer.step()\n",
    "\n",
    "#         if (i+1)%100 == 0:\n",
    "            \n",
    "#             print(f'epoch {epoch+1}/{num_epochs} , step {i+1}/{len(data_train)}, loss = {loss.item():.4f}')\n"
   ]
  },
  {
   "cell_type": "code",
   "execution_count": 46,
   "id": "1cbfbbaa",
   "metadata": {
    "execution": {
     "iopub.execute_input": "2023-11-21T17:44:20.311708Z",
     "iopub.status.busy": "2023-11-21T17:44:20.311155Z",
     "iopub.status.idle": "2023-11-21T17:44:20.317307Z",
     "shell.execute_reply": "2023-11-21T17:44:20.316314Z"
    },
    "papermill": {
     "duration": 0.037691,
     "end_time": "2023-11-21T17:44:20.320033",
     "exception": false,
     "start_time": "2023-11-21T17:44:20.282342",
     "status": "completed"
    },
    "tags": []
   },
   "outputs": [],
   "source": [
    "# n_correct =0\n",
    "# n_samples = 0\n",
    "# with torch.no_grad():\n",
    "#     for i in tqdm(range(len(data_val))):\n",
    "#         data = data_val[i].to(device)\n",
    "#         label = label_val[i].to(device)\n",
    "\n",
    "#         #forward pass\n",
    "#         outputs = model(data)\n",
    "#         outputs = nn.Sigmoid()(outputs)\n",
    "# #         print(outputs)\n",
    "#         _, predicts = torch.max(outputs,1)\n",
    "#         print(predicts)\n",
    "#         val_loss = criterion(outputs,label)\n",
    "\n",
    "#         n_correct += (predicts==label).sum().item()\n",
    "#         n_samples += label.size(0)\n",
    "#     acc = 100*n_correct/n_samples\n",
    "#     print(f'Accuracy of the validation data is {acc}%')"
   ]
  },
  {
   "cell_type": "code",
   "execution_count": null,
   "id": "99278ab1",
   "metadata": {
    "papermill": {
     "duration": 0.02598,
     "end_time": "2023-11-21T17:44:20.372266",
     "exception": false,
     "start_time": "2023-11-21T17:44:20.346286",
     "status": "completed"
    },
    "tags": []
   },
   "outputs": [],
   "source": []
  }
 ],
 "metadata": {
  "kaggle": {
   "accelerator": "none",
   "dataSources": [
    {
     "datasetId": 1358964,
     "sourceId": 2258354,
     "sourceType": "datasetVersion"
    }
   ],
   "dockerImageVersionId": 30380,
   "isGpuEnabled": false,
   "isInternetEnabled": true,
   "language": "python",
   "sourceType": "notebook"
  },
  "kernelspec": {
   "display_name": "Python 3",
   "language": "python",
   "name": "python3"
  },
  "language_info": {
   "codemirror_mode": {
    "name": "ipython",
    "version": 3
   },
   "file_extension": ".py",
   "mimetype": "text/x-python",
   "name": "python",
   "nbconvert_exporter": "python",
   "pygments_lexer": "ipython3",
   "version": "3.7.12"
  },
  "papermill": {
   "default_parameters": {},
   "duration": 103.215084,
   "end_time": "2023-11-21T17:44:21.624804",
   "environment_variables": {},
   "exception": null,
   "input_path": "__notebook__.ipynb",
   "output_path": "__notebook__.ipynb",
   "parameters": {},
   "start_time": "2023-11-21T17:42:38.409720",
   "version": "2.3.4"
  }
 },
 "nbformat": 4,
 "nbformat_minor": 5
}
